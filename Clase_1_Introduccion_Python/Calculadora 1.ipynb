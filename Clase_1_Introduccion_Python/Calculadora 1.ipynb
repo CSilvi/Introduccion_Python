{
 "cells": [
  {
   "cell_type": "markdown",
   "metadata": {},
   "source": [
    "Menu de Calculadora"
   ]
  },
  {
   "cell_type": "code",
   "execution_count": null,
   "metadata": {},
   "outputs": [],
   "source": [
    "\n",
    "print('Elija una opcion')\n",
    "print('1-Suma ')\n",
    "print('2-Resta')\n",
    "print('3-Multiplicacion')\n",
    "print('4-Division')\n",
    "print('5-Iterator')\n",
    "\n"
   ]
  },
  {
   "cell_type": "code",
   "execution_count": 2,
   "metadata": {},
   "outputs": [
    {
     "name": "stdin",
     "output_type": "stream",
     "text": [
      "Ingrese primer numero 5\n",
      "Ingrese segundo numero 5\n",
      "Eliga la operacion que desea realizar 1\n"
     ]
    },
    {
     "name": "stdout",
     "output_type": "stream",
     "text": [
      "10.0\n"
     ]
    }
   ],
   "source": [
    "# Definicion de Funciones\n",
    "def suma(op1,op2):\n",
    "    return (op1+op2)\n",
    "def resta(op3,op4):\n",
    "    return(op3-op4)\n",
    "def producto(op5,op6):\n",
    "    return(op5*op6)\n",
    "def division(op7,op8):\n",
    "    return(op7/op8)\n",
    "\n",
    "# Ingreso de valores\n",
    "a =float(input('Ingrese primer numero'))\n",
    "b =float(input('Ingrese segundo numero'))\n",
    "x =input('Eliga la operacion que desea realizar')\n",
    "y=int(x)\n",
    "\n",
    "if(y==1):\n",
    "    resultado=suma(a,b)\n",
    "    print(resultado)\n",
    "elif(y==2):\n",
    "    resultado=resta(a,b)\n",
    "    print(resultado)\n",
    "elif(y==3):\n",
    "    resultado=producto(a,b)\n",
    "    print(resultado)\n",
    "elif(y==4):\n",
    "    resultado=division(a,b)\n",
    "    print(resultado)\n",
    "elif(y==5):\n",
    "  c=input('Elija operacion')\n",
    "  y=float(0)\n",
    "  d=int(b)\n",
    "  if('a'in c):\n",
    "    for i in range(d):\n",
    "          y=suma(y,a)\n",
    "    print(y)\n",
    "  elif('b'in c):\n",
    "    for i in range(d):\n",
    "          y=resta(y,a)\n",
    "    print(y)\n",
    "  elif('c'in c):\n",
    "    y=1\n",
    "    for i in range(d):\n",
    "          y=producto(y,a)\n",
    "    print(y)\n",
    "    "
   ]
  },
  {
   "cell_type": "code",
   "execution_count": null,
   "metadata": {},
   "outputs": [],
   "source": []
  }
 ],
 "metadata": {
  "kernelspec": {
   "display_name": "Python 3",
   "language": "python",
   "name": "python3"
  },
  "language_info": {
   "codemirror_mode": {
    "name": "ipython",
    "version": 3
   },
   "file_extension": ".py",
   "mimetype": "text/x-python",
   "name": "python",
   "nbconvert_exporter": "python",
   "pygments_lexer": "ipython3",
   "version": "3.7.6"
  }
 },
 "nbformat": 4,
 "nbformat_minor": 4
}
