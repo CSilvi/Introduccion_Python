{
 "cells": [
  {
   "cell_type": "code",
   "execution_count": 2,
   "metadata": {},
   "outputs": [],
   "source": [
    "import numpy as np\n",
    "import matplotlib.pyplot as pl\n",
    "import random\n",
    "%matplotlib inline\n"
   ]
  },
  {
   "cell_type": "code",
   "execution_count": 6,
   "metadata": {},
   "outputs": [
    {
     "name": "stdout",
     "output_type": "stream",
     "text": [
      "[[6 2 6 3 3]\n",
      " [7 6 8 1 8]\n",
      " [1 9 8 1 4]\n",
      " [0 2 8 6 7]\n",
      " [2 7 5 0 0]]\n",
      "[[9 6 0 8 6]\n",
      " [8 3 0 5 0]\n",
      " [7 2 3 3 1]\n",
      " [0 7 3 1 3]\n",
      " [0 2 1 6 9]]\n"
     ]
    }
   ],
   "source": [
    "###GENERA LOS VALORES DE X y Y\n",
    "x= np.random.randint(0,10,size=[5,5])\n",
    "print(x)\n",
    "y= np.random.randint(0,10,size=[5,5])\n",
    "print(y)"
   ]
  },
  {
   "cell_type": "code",
   "execution_count": null,
   "metadata": {},
   "outputs": [],
   "source": [
    "##INGRESA LAS FILAS Y COLUMNAS##\n",
    "row=int(input('Ingrese cantidad de filas'))\n",
    "col=int(input('Ingrese cantidad de columnas'))\n",
    "\n",
    "##INGRESA JOINVECT Y SE VERIFICA SI LA DISTRIBUCION ES CORRECTA...FALTAA\n",
    "join = input('Ingrese distribucion de grafico')\n",
    "t_joinvect = np.array([(1,3),4,5,6,(7,9)])\n",
    "\n",
    "## INGRESA EL TIPO DE GRAFICO\n",
    "TdeGraf=[]\n",
    "for i in range(0,5):\n",
    "    num =input('Ingrese Tipo de Grafico del Grafico Numero (%d): ' % (i))\n",
    "    TdeGraf.append(num)\n",
    "print(TdeGraf)\n",
    "\n",
    "## INGRESA LOS XLIM YLIM\n",
    "xlim =[]\n",
    "ylim = []\n",
    "for i in range(5):\n",
    "    numx = [int(input('Ingrese limite inferior de x (%d):'% (i))),int(input('Ingrese limite superior de x (%d):' % (i)))]\n",
    "    numy = [int(input('Ingrese limite inferior de y (%d):' % (i))),int(input('Ingrese limite superior de y (%d):'% (i)))]\n",
    "    xlim.append(numx)\n",
    "    ylim.append(numy)\n",
    "print(xlim)\n",
    "print(xlim)\n",
    "\n",
    "## SE INGRESA LOS XLABEL YLABEL\n",
    "xlabel =[]\n",
    "ylabel = []\n",
    "for i in range(5):\n",
    "    j=input('Ingrese Nombre del EjeX del Grafico Numero (%d): ' % (i))\n",
    "    p=input('Ingrese Nombre del EjeY del Grafico Numero (%d): ' % (i))\n",
    "    xlabel.append(j)\n",
    "    ylabel.append(p)\n",
    "print(xlabel)\n",
    "print(ylabel)\n",
    "\n",
    "###SE INGRESA LOS NUMPLOT\n",
    "numplot=[]\n",
    "for i in range(5):\n",
    "    num =int(input('Ingrese numero del plot del Grafico Numero (%d):' % (i)))\n",
    "    numplot.append(num)\n",
    "print(numplot)\n",
    "\n",
    "\n",
    "show=True\n",
    "\n",
    "\n",
    "if(show):\n",
    "        pl.figure(figsize=[10,10])\n",
    "        for i in range(5):\n",
    "            if(TdeGraf[i]=='stem'):\n",
    "                pl.subplot(row,col,t_joinvect[i])\n",
    "                pl.stem(x[i],y[i],markerfmt='C1o')\n",
    "                #pl.plot(x[i],y[i])\n",
    "                pl.ylabel(xlabel[i])\n",
    "                pl.xlabel(ylabel[i])\n",
    "                pl.xlim(xlim[i])\n",
    "                pl.ylim(ylim[i])\n",
    "                pl.title(numplot[i])\n",
    "            else:\n",
    "                pl.subplot(row,col,t_joinvect[i])\n",
    "                pl.plot(x[i],y[i])\n",
    "                pl.ylabel(xlabel[i])\n",
    "                pl.xlabel(ylabel[i])\n",
    "                pl.xlim(xlim[i])\n",
    "                pl.ylim(ylim[i])\n",
    "                pl.title(numplot[i])\n",
    "        \n",
    "        \n",
    "        pl.show()\n",
    "    \n"
   ]
  },
  {
   "cell_type": "code",
   "execution_count": null,
   "metadata": {},
   "outputs": [],
   "source": [
    "txt = \"hello, my name is Peter, I am 26 years old\"\n",
    "\n",
    "x = txt.split(\", \")\n",
    "\n",
    "print(x)"
   ]
  },
  {
   "cell_type": "code",
   "execution_count": 10,
   "metadata": {},
   "outputs": [
    {
     "name": "stdin",
     "output_type": "stream",
     "text": [
      "Ingrese distribucion de grafico 10\n",
      "Ingrese distribucion de grafico 10\n"
     ]
    },
    {
     "name": "stdout",
     "output_type": "stream",
     "text": [
      "[['10'], ['10']]\n",
      "['10']\n",
      "['10']\n",
      "[10]\n",
      "[10, 10]\n",
      "10\n",
      "hay\n",
      "hh\n"
     ]
    }
   ],
   "source": [
    "join1=[]\n",
    "join2=[]\n",
    "y=[]\n",
    "z=[]\n",
    "for i in range(2):\n",
    "      join = input('Ingrese distribucion de grafico')\n",
    "      x=join.split(\"-\")\n",
    "      join1.append(x)\n",
    "print(join1)\n",
    "print(join1[0])\n",
    "for j in range(2):\n",
    "      join2=join1[j]\n",
    "      b=[int(x) for x in join2]\n",
    "      y.extend(b)\n",
    "      z.append(b)        \n",
    "  \n",
    "print(join2)\n",
    "print(b)\n",
    "print(y)\n",
    "print(y[0])\n",
    "if len(y)!=len(set(y)):\n",
    "    print('hay')\n",
    "if(max(y)>9):\n",
    "    print('hh')\n",
    "\n",
    "\n"
   ]
  },
  {
   "cell_type": "code",
   "execution_count": null,
   "metadata": {},
   "outputs": [],
   "source": [
    "a=['1','2','3','4']\n",
    "\n",
    "b= [int(x) for x in a]\n",
    "\n",
    "print(b)"
   ]
  },
  {
   "cell_type": "code",
   "execution_count": 17,
   "metadata": {},
   "outputs": [
    {
     "name": "stdout",
     "output_type": "stream",
     "text": [
      "[1, 5, 9]\n",
      "3\n"
     ]
    }
   ],
   "source": [
    "myList = [1,5,9,5,1,9] \n",
    "\n",
    "myList = list(set(myList)) \n",
    "\n",
    "print(myList)\n",
    "print(len(myList))\n",
    " "
   ]
  },
  {
   "cell_type": "code",
   "execution_count": 9,
   "metadata": {},
   "outputs": [
    {
     "name": "stdout",
     "output_type": "stream",
     "text": [
      "{'a': 3, 'c': 4, 'b': 1}\n",
      "El valor mas repetido es el  c  con  4  veces\n",
      "{1: 2, 2: 5, 3: 2, 4: 2, 5: 1}\n",
      "El valor mas repetido es el  2  con  5  veces\n"
     ]
    }
   ],
   "source": [
    "def contarElementosLista(lista):\n",
    "    \"\"\"\n",
    "    Recibe una lista, y devuelve un diccionario con todas las repeticiones de\n",
    "    cada valor\n",
    "    \"\"\"\n",
    "    map={i:lista.count(i) for i in lista}  \n",
    "    print(map)\n",
    "    return {i:lista.count(i) for i in lista}\n",
    " \n",
    "lista = [\"a\", \"c\", \"b\", \"a\", \"c\", \"c\", \"a\", \"c\"]\n",
    "resultado=contarElementosLista(lista) # {'a': 3, 'b': 1, 'c': 3}\n",
    "maximo=max(resultado, key=resultado.get)\n",
    "print(\"El valor mas repetido es el \",maximo,\" con \",resultado[maximo],\" veces\")\n",
    " \n",
    " \n",
    "lista = [1,2,3,2,1,4,2,5,2,4,2,3]\n",
    "resultado=contarElementosLista(lista) # {1: 2, 2: 5, 3: 2, 4: 2, 5: 1}\n",
    "maximo=max(resultado, key=resultado.get)\n",
    "print(\"El valor mas repetido es el \",maximo,\" con \",resultado[maximo],\" veces\")"
   ]
  },
  {
   "cell_type": "code",
   "execution_count": 12,
   "metadata": {},
   "outputs": [
    {
     "name": "stdout",
     "output_type": "stream",
     "text": [
      "55\n",
      "-1\n"
     ]
    }
   ],
   "source": [
    "lista=[-1,2,1,1,3,9,5,55]\n",
    "if len(lista)==len(set(lista)): # False porque hay dos '1'\n",
    "    print ('no se solapan graficos')\n",
    "print(max(lista))\n",
    "print(min(lista))\n",
    "    "
   ]
  },
  {
   "cell_type": "code",
   "execution_count": null,
   "metadata": {},
   "outputs": [],
   "source": []
  },
  {
   "cell_type": "code",
   "execution_count": null,
   "metadata": {},
   "outputs": [],
   "source": []
  }
 ],
 "metadata": {
  "kernelspec": {
   "display_name": "Python 3",
   "language": "python",
   "name": "python3"
  },
  "language_info": {
   "codemirror_mode": {
    "name": "ipython",
    "version": 3
   },
   "file_extension": ".py",
   "mimetype": "text/x-python",
   "name": "python",
   "nbconvert_exporter": "python",
   "pygments_lexer": "ipython3",
   "version": "3.7.6"
  }
 },
 "nbformat": 4,
 "nbformat_minor": 4
}
