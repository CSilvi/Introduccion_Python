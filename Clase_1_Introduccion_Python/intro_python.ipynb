{
 "cells": [
  {
   "cell_type": "markdown",
   "metadata": {},
   "source": [
    "# Comentarios"
   ]
  },
  {
   "cell_type": "code",
   "execution_count": 2,
   "metadata": {},
   "outputs": [
    {
     "data": {
      "text/plain": [
       "'\\nComentarios multilinea\\nComentarios multilinea\\n'"
      ]
     },
     "execution_count": 2,
     "metadata": {},
     "output_type": "execute_result"
    }
   ],
   "source": [
    "# Primeros comandos de Python\n",
    "# Comentarios de una sola linea\n",
    "\"\"\"\n",
    "Comentarios multilinea\n",
    "Comentarios multilinea\n",
    "\"\"\""
   ]
  },
  {
   "cell_type": "markdown",
   "metadata": {},
   "source": [
    "# Importando librerías"
   ]
  },
  {
   "cell_type": "code",
   "execution_count": 3,
   "metadata": {},
   "outputs": [],
   "source": [
    "import numpy as np\n",
    "import matplotlib.pyplot as plt"
   ]
  },
  {
   "cell_type": "markdown",
   "metadata": {},
   "source": [
    "# Asignaciones basicas"
   ]
  },
  {
   "cell_type": "code",
   "execution_count": 4,
   "metadata": {},
   "outputs": [],
   "source": [
    "d_num  = 5\n",
    "d_flt  = 5.\n",
    "d_str  = 'texto'\n",
    "d_numv = [0,1,2,3]\n",
    "d_strv = ['Sol','Luna','Tierra']"
   ]
  },
  {
   "cell_type": "markdown",
   "metadata": {},
   "source": [
    "# Imprimir en pantalla"
   ]
  },
  {
   "cell_type": "code",
   "execution_count": 5,
   "metadata": {},
   "outputs": [
    {
     "name": "stdout",
     "output_type": "stream",
     "text": [
      "#############################################\n",
      "Este numero es:  5\n",
      "texto\n",
      "Lista:  [0, 1, 2, 3] \t Un dato:  0\n",
      "Lista:  ['Sol', 'Luna', 'Tierra'] \t Un dato:  Tierra\n",
      "El valor d_strv: Sol\n",
      "El valor d_strv: 12.56\n",
      "El valor d_strv: 12.56\n",
      "#############################################\n"
     ]
    }
   ],
   "source": [
    "print('#############################################')\n",
    "print('Este numero es: ',d_num)\n",
    "print(d_str)\n",
    "print('Lista: ',d_numv,'\\t','Un dato: ',d_numv[0])\n",
    "print('Lista: ',d_strv,'\\t','Un dato: ',d_strv[2])\n",
    "print('El valor d_strv: %s'%d_strv[0])\n",
    "print('El valor d_strv: %.2f'%(12.5555))\n",
    "print('El valor d_strv: {:.2f}'.format(12.5555))\n",
    "print('#############################################')"
   ]
  },
  {
   "cell_type": "markdown",
   "metadata": {},
   "source": [
    "# Operaciones"
   ]
  },
  {
   "cell_type": "code",
   "execution_count": 6,
   "metadata": {},
   "outputs": [
    {
     "name": "stdout",
     "output_type": "stream",
     "text": [
      "#############################################\n",
      "Sum: 8\n",
      "Res: -7\n",
      "Pro: -56\n",
      "Div: 3.0 \tTipo: <class 'float'>\n",
      "Div entera: 3 \tTipo: <class 'int'>\n",
      "Mod: 2\n",
      "dayday\n",
      "[0, 1, 2, 3, 0, 1, 2, 3, 0, 1, 2, 3]\n",
      "#############################################\n"
     ]
    }
   ],
   "source": [
    "print('#############################################')\n",
    "suma     = 3 + d_num;    print('Sum:',suma)\n",
    "resta    = suma - 15;    print('Res:',resta)\n",
    "prod     = suma * resta; print('Pro:',prod)\n",
    "div      = 6/2;          print('Div:',div,'\\tTipo:',type(div))\n",
    "div_e    = 6//2;         print('Div entera:',div_e,'\\tTipo:',type(div_e))\n",
    "modulo   = 8 % 3;        print('Mod:',modulo)\n",
    "strv     = 'day'*2;      print(strv)        # Se repite la palabra\n",
    "lists    = d_numv * 3;   print(lists)       # Se repite la lista\n",
    "print('#############################################')"
   ]
  },
  {
   "cell_type": "markdown",
   "metadata": {},
   "source": [
    "# Condicional y métodos de generación de strings"
   ]
  },
  {
   "cell_type": "code",
   "execution_count": 7,
   "metadata": {},
   "outputs": [
    {
     "name": "stdout",
     "output_type": "stream",
     "text": [
      "#############################################\n",
      "Este numero es 0\n",
      "#############################################\n"
     ]
    }
   ],
   "source": [
    "print ('#############################################')\n",
    "ptr = 0\n",
    "if(ptr==0):\n",
    "    print (\"Este numero es %d\"%ptr)\n",
    "elif(ptr==1):\n",
    "    print (\"Este numero es %d\"%ptr + \" no esperado\")\n",
    "elif(ptr>20 and ptr<=30):\n",
    "    print ('>>>>>>>: ',ptr )\n",
    "else:\n",
    "    print ('El valor es %d %s'%(ptr,\"no esperado\"))\n",
    "print ('#############################################')"
   ]
  },
  {
   "cell_type": "markdown",
   "metadata": {},
   "source": [
    "# Iterativo"
   ]
  },
  {
   "cell_type": "code",
   "execution_count": 8,
   "metadata": {},
   "outputs": [
    {
     "name": "stdout",
     "output_type": "stream",
     "text": [
      "#############################################\n",
      "0 1 2 3 4 5 6 7 \n",
      "#############################################\n"
     ]
    }
   ],
   "source": [
    "print ('#############################################')\n",
    "for ptr in range(8):\n",
    "    print (ptr,end=' ')\n",
    "print()\n",
    "print ('#############################################')"
   ]
  },
  {
   "cell_type": "markdown",
   "metadata": {},
   "source": [
    "# Operaciones con vectores (np.ndarray)"
   ]
  },
  {
   "cell_type": "code",
   "execution_count": 9,
   "metadata": {},
   "outputs": [
    {
     "name": "stdout",
     "output_type": "stream",
     "text": [
      "#############################################\n",
      "[0 1 2 3]\n",
      "[0 2 4]\n",
      "[ 0  3  6  9 12]\n",
      "[0 0 0 1 1]\n",
      "[0.         0.33333333 0.66666667 1.         1.33333333]\n",
      "[ 0  1  4  9 16]\n",
      "30\n",
      "[[ 8 14]\n",
      " [ 8 14]]\n",
      "<class 'numpy.matrix'>\n",
      "#############################################\n"
     ]
    }
   ],
   "source": [
    "print('#############################################')\n",
    "t_array = np.array([0,1,2,3]);                   print(t_array)\n",
    "t_array = np.arange(0,5,2);                      print(t_array) \n",
    "t_array = np.arange(0,5)*3;                      print(t_array)\n",
    "t_array = np.arange(0,5)//3;                     print(t_array)\n",
    "t_array = np.arange(0,5)/3;                      print(t_array)\n",
    "t_array = np.arange(0,5)*np.arange(0,5);         print(t_array)\n",
    "t_array = np.dot(np.arange(0,5),np.arange(0,5)); print(t_array)\n",
    "\n",
    "t_matrix = np.dot(np.matrix([[0, 1, 2, 3],[0, 1, 2, 3]]),\n",
    "                  np.matrix([[0, 1], [2, 3],[0, 1], [2, 3]])); print(t_matrix)\n",
    "print(type(t_matrix))\n",
    "print('#############################################')"
   ]
  },
  {
   "cell_type": "markdown",
   "metadata": {},
   "source": [
    "# Seleccion en vectores"
   ]
  },
  {
   "cell_type": "code",
   "execution_count": 10,
   "metadata": {},
   "outputs": [
    {
     "name": "stdout",
     "output_type": "stream",
     "text": [
      "#############################################\n",
      "[0 1 2 3 4]\n",
      "[25  1  2  3  4]\n",
      "[25  1  2  3 45]\n",
      "[1 1 1 1 1]\n",
      "[3 3 1 1 1]\n",
      "[3 3 1 2 2]\n",
      "[5 5 5 5 5]\n",
      "[0 1 2 3 4]\n",
      "[False False False  True  True]\n",
      "[3 4]\n",
      "[0 1 2]\n",
      "5 \n",
      " 5 \n",
      " 4\n",
      "(2, 2)\n",
      "#############################################\n"
     ]
    }
   ],
   "source": [
    "print ('#############################################')\n",
    "t0     = np.arange(0,5);                        print (t0)\n",
    "\n",
    "t0[0]  = 25;                                    print (t0)                          \n",
    "t0[-1] = 45;                                    print (t0)                          \n",
    "t0[:]  = 1;                                     print (t0)\n",
    "t0[0:2]= 3;                                     print (t0)\n",
    "t0[3:5]= 2;                                     print (t0)\n",
    "t0[0:6]= 5;                                     print (t0)\n",
    "\n",
    "t0     = np.arange(0,5);                        print (t0)\n",
    "c0= t0>2;                                       print (c0)\n",
    "t1 = t0[c0];                                    print (t1)\n",
    "t2 = t0[t0<=2];                                 print (t2)\n",
    "\n",
    "print (len(t0),'\\n',np.size(t0),'\\n',np.size(t_matrix))\n",
    "print (np.shape(t_matrix))\n",
    "print ('#############################################')"
   ]
  },
  {
   "cell_type": "markdown",
   "metadata": {},
   "source": [
    "# Matrices"
   ]
  },
  {
   "cell_type": "code",
   "execution_count": 9,
   "metadata": {},
   "outputs": [
    {
     "name": "stdout",
     "output_type": "stream",
     "text": [
      "#############################################\n",
      "[[0. 0. 0. 0. 0.]]\n",
      "<class 'numpy.ndarray'>\n",
      "[[1. 1. 1. 1. 1.]\n",
      " [1. 1. 1. 1. 1.]\n",
      " [1. 1. 1. 1. 1.]]\n",
      "[[0. 0. 0. 0. 0.]\n",
      " [0. 0. 0. 0. 0.]\n",
      " [0. 0. 0. 0. 0.]\n",
      " [0. 0. 0. 0. 0.]\n",
      " [0. 0. 0. 0. 0.]]\n",
      "[[0. 0. 0. 1. 0.]\n",
      " [0. 0. 0. 1. 0.]\n",
      " [0. 0. 0. 1. 0.]\n",
      " [0. 0. 0. 1. 0.]\n",
      " [0. 0. 0. 1. 0.]]\n",
      "[[2. 2. 0. 1. 0.]\n",
      " [0. 0. 0. 1. 0.]\n",
      " [2. 2. 0. 1. 0.]\n",
      " [0. 0. 0. 1. 0.]\n",
      " [2. 2. 0. 1. 0.]]\n",
      "[[7. 7. 5. 6. 5.]\n",
      " [5. 5. 5. 6. 5.]\n",
      " [7. 7. 5. 6. 5.]\n",
      " [5. 5. 5. 6. 5.]\n",
      " [7. 7. 5. 6. 5.]]\n",
      "[[2. 2. 0. 1. 0.]\n",
      " [0. 0. 0. 1. 0.]\n",
      " [2. 2. 0. 1. 0.]\n",
      " [0. 0. 0. 1. 0.]\n",
      " [2. 2. 0. 1. 0.]]\n",
      "[[10. 10.  0.  5.  0.]\n",
      " [ 0.  0.  0.  5.  0.]\n",
      " [10. 10.  0.  5.  0.]\n",
      " [ 0.  0.  0.  5.  0.]\n",
      " [10. 10.  0.  5.  0.]]\n",
      "[[2. 2. 0. 1. 0.]\n",
      " [0. 0. 0. 1. 0.]\n",
      " [2. 2. 0. 1. 0.]\n",
      " [0. 0. 0. 1. 0.]\n",
      " [2. 2. 0. 1. 0.]]\n",
      "[[4. 4. 0. 1. 0.]\n",
      " [0. 0. 0. 1. 0.]\n",
      " [4. 4. 0. 1. 0.]\n",
      " [0. 0. 0. 1. 0.]\n",
      " [4. 4. 0. 1. 0.]]\n",
      "[[4. 4. 0. 5. 0.]\n",
      " [0. 0. 0. 1. 0.]\n",
      " [4. 4. 0. 5. 0.]\n",
      " [0. 0. 0. 1. 0.]\n",
      " [4. 4. 0. 5. 0.]]\n",
      "5 5\n",
      "#############################################\n"
     ]
    }
   ],
   "source": [
    "print ('#############################################')\n",
    "t1         = np.zeros((1,5)); print (t1)\n",
    "print(type(t1))\n",
    "t1         = np.ones((3,5)) ; print (t1)\n",
    "t1         = np.zeros((5,5)); print (t1)\n",
    "\n",
    "t1[:,3]    = 1;               print (t1)\n",
    "t1[0:5:2,:2]  = 2;            print (t1)\n",
    "t1         = t1 + 5;          print (t1)\n",
    "t1         = t1 - 5;          print (t1)\n",
    "t1         = t1 * 5;          print (t1)\n",
    "t1         = t1 / 5;          print (t1)\n",
    "t2         = t1 * t1;         print (t2)\n",
    "t2         = np.dot(t1, t1);  print (t2)\n",
    "r,c=np.shape(t1);             print (r,c)\n",
    "print ('#############################################')"
   ]
  },
  {
   "cell_type": "markdown",
   "metadata": {},
   "source": [
    "# Iterativo"
   ]
  },
  {
   "cell_type": "code",
   "execution_count": 12,
   "metadata": {},
   "outputs": [
    {
     "name": "stdout",
     "output_type": "stream",
     "text": [
      "#############################################\n",
      "[ 0.  1.  2.  3.  4.  5.  6.  7.  8.  9. 10. 11. 12. 13. 14. 15. 16. 17.\n",
      " 18. 19. 20. 21. 22. 23. 24. 25.]\n",
      "25.0\n",
      "24.0\n",
      "23.0\n",
      "22.0\n",
      "21.0\n",
      "20.0\n",
      "19.0\n",
      "18.0\n",
      "17.0\n",
      "16.0\n",
      "15.0\n",
      "14.0\n",
      "13.0\n",
      "12.0\n",
      "11.0\n",
      "10.0\n",
      "9.0\n",
      "8.0\n",
      "7.0\n",
      "6.0\n",
      "5.0\n",
      "4.0\n",
      "3.0\n",
      "2.0\n",
      "1.0\n",
      "0.0\n",
      "#############################################\n"
     ]
    }
   ],
   "source": [
    "print ('#############################################')\n",
    "t_vec = np.arange(0.,25.1,1.)\n",
    "print (t_vec)\n",
    "for ptr in range(len(t_vec)-1,-1,-1):\n",
    "    print (t_vec[ptr])\n",
    "print ('#############################################')"
   ]
  },
  {
   "cell_type": "markdown",
   "metadata": {},
   "source": [
    "## Ejemplo"
   ]
  },
  {
   "cell_type": "code",
   "execution_count": 13,
   "metadata": {},
   "outputs": [
    {
     "name": "stdout",
     "output_type": "stream",
     "text": [
      "#############################################\n",
      "0.0\n",
      "2.0\n",
      "4.0\n",
      "6.0\n",
      "8.0\n",
      "Vec>>  [ 2.  4.  6.  8. 10.]\n",
      "List>>  [2.0, 4.0, 6.0, 8.0, 10.0]\n",
      "#############################################\n"
     ]
    }
   ],
   "source": [
    "print('#############################################')\n",
    "count = 0\n",
    "lista = []\n",
    "for ptr in t_vec[0:5]:\n",
    "    print (ptr)\n",
    "    count += 1\n",
    "    t_vec[count]=ptr+2\n",
    "    lista.append(ptr+2)\n",
    "print(\"Vec>> \",t_vec[1:6])\n",
    "print(\"List>> \",lista)\n",
    "print('#############################################')"
   ]
  },
  {
   "cell_type": "markdown",
   "metadata": {},
   "source": [
    "## Iterativo"
   ]
  },
  {
   "cell_type": "code",
   "execution_count": 14,
   "metadata": {},
   "outputs": [
    {
     "name": "stdout",
     "output_type": "stream",
     "text": [
      "#############################################\n",
      "340.0\n",
      "#############################################\n"
     ]
    }
   ],
   "source": [
    "print('#############################################')\n",
    "ptr = 0\n",
    "o_data = 0\n",
    "while(ptr < len(t_vec)):\n",
    "    o_data += t_vec[ptr]\n",
    "    ptr    += 1\n",
    "print(o_data)\n",
    "print('#############################################')"
   ]
  },
  {
   "cell_type": "markdown",
   "metadata": {},
   "source": [
    "# Igualdad en float"
   ]
  },
  {
   "cell_type": "code",
   "execution_count": 1,
   "metadata": {},
   "outputs": [
    {
     "name": "stdout",
     "output_type": "stream",
     "text": [
      "False\n"
     ]
    }
   ],
   "source": [
    "a=2/3.1\n",
    "b=0.2/0.31\n",
    "print (a==b)"
   ]
  },
  {
   "cell_type": "code",
   "execution_count": 2,
   "metadata": {},
   "outputs": [
    {
     "name": "stdout",
     "output_type": "stream",
     "text": [
      "0.6451612903225806\n",
      "0.6451612903225807\n"
     ]
    }
   ],
   "source": [
    "print(a)\n",
    "print(b)"
   ]
  },
  {
   "cell_type": "code",
   "execution_count": null,
   "metadata": {},
   "outputs": [],
   "source": [
    "print('{:.22f}'.format(a))\n",
    "print('{:.22f}'.format(b))"
   ]
  },
  {
   "cell_type": "code",
   "execution_count": null,
   "metadata": {},
   "outputs": [],
   "source": [
    "def are_equal(n1,n2):\n",
    "    return abs(n1-n2)<0.0000001\n",
    "\n",
    "print(are_equal(a,b))"
   ]
  },
  {
   "cell_type": "code",
   "execution_count": null,
   "metadata": {},
   "outputs": [],
   "source": [
    "import math\n",
    "print(math.isclose(a, b, abs_tol=0.0000001))"
   ]
  },
  {
   "cell_type": "markdown",
   "metadata": {},
   "source": [
    "# Definicion de funciones"
   ]
  },
  {
   "cell_type": "code",
   "execution_count": null,
   "metadata": {},
   "outputs": [],
   "source": [
    "def producto(a,b):\n",
    "    c = a * b\n",
    "    return c\n",
    "\n",
    "c = producto(2,2)\n",
    "print (c)"
   ]
  },
  {
   "cell_type": "markdown",
   "metadata": {},
   "source": [
    "## Pasaje de argumentos mutables e inmutables"
   ]
  },
  {
   "cell_type": "code",
   "execution_count": null,
   "metadata": {},
   "outputs": [],
   "source": [
    "def funcion(val):\n",
    "    val=4\n",
    "    print(val)\n",
    "    return\n",
    "\n",
    "x=10\n",
    "funcion(x)\n",
    "print(x)"
   ]
  },
  {
   "cell_type": "code",
   "execution_count": null,
   "metadata": {},
   "outputs": [],
   "source": [
    "def funcion2 (lista):\n",
    "    lista.append(40)\n",
    "    #lista[0] = 8\n",
    "    #lista = [8]\n",
    "    #print(lista)\n",
    "    return\n",
    "\n",
    "x=[10,20,30]\n",
    "funcion2(x)\n",
    "print(x)"
   ]
  },
  {
   "cell_type": "code",
   "execution_count": null,
   "metadata": {},
   "outputs": [],
   "source": [
    "def funcion3 (vector):\n",
    "    vector[0] = 8\n",
    "    #vector = np.array([8])\n",
    "    #print(vector)\n",
    "    return\n",
    "\n",
    "x=np.array([10,20,30])\n",
    "funcion3(x)\n",
    "print(x)"
   ]
  },
  {
   "cell_type": "markdown",
   "metadata": {},
   "source": [
    "# Shallow copy - Deep copy"
   ]
  },
  {
   "cell_type": "code",
   "execution_count": null,
   "metadata": {},
   "outputs": [],
   "source": [
    "colores1 = [\"rojo\", \"azul\"]\n",
    "colores2 = colores1\n",
    "print(colores1)\n",
    "print(colores2)"
   ]
  },
  {
   "cell_type": "code",
   "execution_count": null,
   "metadata": {},
   "outputs": [],
   "source": [
    "colores2[0]=\"amarillo\"\n",
    "print(colores1)\n",
    "print(colores2)"
   ]
  },
  {
   "cell_type": "code",
   "execution_count": null,
   "metadata": {},
   "outputs": [],
   "source": [
    "colores1 = [\"rojo\", \"azul\"]\n",
    "colores2 = colores1\n",
    "\n",
    "colores2=[\"amarillo\",\"verde\"]\n",
    "print(colores1)\n",
    "print(colores2)"
   ]
  },
  {
   "cell_type": "code",
   "execution_count": null,
   "metadata": {},
   "outputs": [],
   "source": [
    "colores1 = [\"rojo\", \"azul\"]\n",
    "colores2 = colores1[:]\n",
    "\n",
    "colores2[0]=\"amarillo\"\n",
    "print(colores1)\n",
    "print(colores2)"
   ]
  },
  {
   "cell_type": "code",
   "execution_count": null,
   "metadata": {},
   "outputs": [],
   "source": [
    "colores1 = [\"rojo\", \"azul\"]\n",
    "colores2 = colores1.copy()\n",
    "\n",
    "colores2[0]=\"amarillo\"\n",
    "print(colores1)\n",
    "print(colores2)"
   ]
  },
  {
   "cell_type": "code",
   "execution_count": null,
   "metadata": {},
   "outputs": [],
   "source": [
    "#Con vectores\n",
    "\n",
    "numeros1 = np.arange(0,4)\n",
    "numeros2 = numeros1\n",
    "numeros2[0:2] = 33\n",
    "print(numeros1)\n",
    "print(numeros2)\n",
    "\n",
    "numeros1 = np.arange(0,4)\n",
    "numeros2 = numeros1.copy() #deep copy\n",
    "numeros2[0:2] = 33\n",
    "print(numeros1)\n",
    "print(numeros2)"
   ]
  },
  {
   "cell_type": "markdown",
   "metadata": {},
   "source": [
    "# Importando módulos"
   ]
  },
  {
   "cell_type": "code",
   "execution_count": 1,
   "metadata": {},
   "outputs": [
    {
     "name": "stdout",
     "output_type": "stream",
     "text": [
      "['C:\\\\Users\\\\silvi\\\\Documents\\\\Python Scripts\\\\Clase 1', 'C:\\\\Users\\\\silvi\\\\anaconda3\\\\python37.zip', 'C:\\\\Users\\\\silvi\\\\anaconda3\\\\DLLs', 'C:\\\\Users\\\\silvi\\\\anaconda3\\\\lib', 'C:\\\\Users\\\\silvi\\\\anaconda3', '', 'C:\\\\Users\\\\silvi\\\\anaconda3\\\\lib\\\\site-packages', 'C:\\\\Users\\\\silvi\\\\anaconda3\\\\lib\\\\site-packages\\\\win32', 'C:\\\\Users\\\\silvi\\\\anaconda3\\\\lib\\\\site-packages\\\\win32\\\\lib', 'C:\\\\Users\\\\silvi\\\\anaconda3\\\\lib\\\\site-packages\\\\Pythonwin', 'C:\\\\Users\\\\silvi\\\\anaconda3\\\\lib\\\\site-packages\\\\IPython\\\\extensions', 'C:\\\\Users\\\\silvi\\\\.ipython']\n"
     ]
    }
   ],
   "source": [
    "import sys\n",
    "print(sys.path)"
   ]
  },
  {
   "cell_type": "code",
   "execution_count": 2,
   "metadata": {},
   "outputs": [
    {
     "name": "stdout",
     "output_type": "stream",
     "text": [
      "Hola Juan!\n"
     ]
    }
   ],
   "source": [
    "import hola\n",
    "hola.decirHola(\"Juan\")"
   ]
  },
  {
   "cell_type": "markdown",
   "metadata": {},
   "source": [
    "# Entrada de datos"
   ]
  },
  {
   "cell_type": "code",
   "execution_count": null,
   "metadata": {},
   "outputs": [],
   "source": [
    "a = input('Ingrese Opcion')\n",
    "print (a)"
   ]
  },
  {
   "cell_type": "code",
   "execution_count": null,
   "metadata": {},
   "outputs": [],
   "source": []
  }
 ],
 "metadata": {
  "kernelspec": {
   "display_name": "Python 3",
   "language": "python",
   "name": "python3"
  },
  "language_info": {
   "codemirror_mode": {
    "name": "ipython",
    "version": 3
   },
   "file_extension": ".py",
   "mimetype": "text/x-python",
   "name": "python",
   "nbconvert_exporter": "python",
   "pygments_lexer": "ipython3",
   "version": "3.7.6"
  }
 },
 "nbformat": 4,
 "nbformat_minor": 4
}
