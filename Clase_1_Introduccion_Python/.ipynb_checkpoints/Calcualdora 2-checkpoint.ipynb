{
 "cells": [
  {
   "cell_type": "markdown",
   "metadata": {},
   "source": [
    "Menu de Calculadora"
   ]
  },
  {
   "cell_type": "code",
   "execution_count": 2,
   "metadata": {},
   "outputs": [
    {
     "name": "stdout",
     "output_type": "stream",
     "text": [
      "Elija una opcion\n",
      "1-Suma \n",
      "2-Resta\n",
      "3-Multiplicacion\n",
      "4-Division\n",
      "5-Iterator\n",
      "6-Producto de MAtrices\n"
     ]
    }
   ],
   "source": [
    "print('Elija una opcion')\n",
    "print('1-Suma ')\n",
    "print('2-Resta')\n",
    "print('3-Multiplicacion')\n",
    "print('4-Division')\n",
    "print('5-Iterator')\n",
    "print('6-Producto de MAtrices')"
   ]
  },
  {
   "cell_type": "code",
   "execution_count": 3,
   "metadata": {},
   "outputs": [
    {
     "name": "stdin",
     "output_type": "stream",
     "text": [
      "Eliga la operacion que desea realizar 6\n"
     ]
    },
    {
     "name": "stdout",
     "output_type": "stream",
     "text": [
      "Ingresa el orden de su Matriz 1:Filas y Columnas\n"
     ]
    },
    {
     "name": "stdin",
     "output_type": "stream",
     "text": [
      " 2\n",
      " 2\n"
     ]
    },
    {
     "name": "stdout",
     "output_type": "stream",
     "text": [
      "Ingresa el orden de su Matriz 2:Filas y Columnas\n"
     ]
    },
    {
     "name": "stdin",
     "output_type": "stream",
     "text": [
      " 2\n",
      " 2\n"
     ]
    },
    {
     "name": "stdout",
     "output_type": "stream",
     "text": [
      "Ingrese su Matriz 1\n"
     ]
    },
    {
     "name": "stdin",
     "output_type": "stream",
     "text": [
      "Elemento (0,0):  2\n",
      "Elemento (0,1):  2\n",
      "Elemento (1,0):  2\n",
      "Elemento (1,1):  2\n"
     ]
    },
    {
     "name": "stdout",
     "output_type": "stream",
     "text": [
      "Ingrese su Matriz 2\n"
     ]
    },
    {
     "name": "stdin",
     "output_type": "stream",
     "text": [
      "Elemento (0,0):  2\n",
      "Elemento (0,1):  2\n",
      "Elemento (1,0):  2\n",
      "Elemento (1,1):  2\n"
     ]
    },
    {
     "name": "stdout",
     "output_type": "stream",
     "text": [
      "[[8. 8.]\n",
      " [8. 8.]]\n"
     ]
    },
    {
     "name": "stdin",
     "output_type": "stream",
     "text": [
      "Si desea relaizar otra operacion escriba -si- si\n",
      "Eliga la operacion que desea realizar 1\n",
      "Ingrese primer numero 5\n",
      "Ingrese segundo numero 5\n"
     ]
    },
    {
     "name": "stdout",
     "output_type": "stream",
     "text": [
      "10.0\n"
     ]
    },
    {
     "name": "stdin",
     "output_type": "stream",
     "text": [
      "Si desea relaizar otra operacion escriba -si- si\n",
      "Eliga la operacion que desea realizar 5\n",
      "Ingrese primer numero 5\n",
      "Ingrese segundo numero 2\n",
      "Elija operacion c\n"
     ]
    },
    {
     "name": "stdout",
     "output_type": "stream",
     "text": [
      "25.0\n"
     ]
    },
    {
     "name": "stdin",
     "output_type": "stream",
     "text": [
      "Si desea relaizar otra operacion escriba -si- si\n",
      "Eliga la operacion que desea realizar 3\n",
      "Ingrese primer numero 5\n",
      "Ingrese segundo numero 5\n"
     ]
    },
    {
     "name": "stdout",
     "output_type": "stream",
     "text": [
      "25.0\n"
     ]
    },
    {
     "name": "stdin",
     "output_type": "stream",
     "text": [
      "Si desea relaizar otra operacion escriba -si- si\n",
      "Eliga la operacion que desea realizar 4\n",
      "Ingrese primer numero 60\n",
      "Ingrese segundo numero 5\n"
     ]
    },
    {
     "name": "stdout",
     "output_type": "stream",
     "text": [
      "12.0\n"
     ]
    },
    {
     "name": "stdin",
     "output_type": "stream",
     "text": [
      "Si desea relaizar otra operacion escriba -si- no\n"
     ]
    }
   ],
   "source": [
    "import numpy as np\n",
    "\n",
    "# Definicion de Funciones suma-resta-producto-division\n",
    "def suma(op1,op2):\n",
    "    return (op1+op2)\n",
    "def resta(op3,op4):\n",
    "    return(op3-op4)\n",
    "def producto(op5,op6):\n",
    "    return(op5*op6)\n",
    "def division(op7,op8):\n",
    "    return(op7/op8)\n",
    "# Funcion de ingreso \n",
    "def ing():\n",
    "    a =float(input('Ingrese primer numero'))\n",
    "    b =float(input('Ingrese segundo numero'))\n",
    "    return(a,b)\n",
    "#Ingreso de las dimensiones de las matrices\n",
    "def ingmxn():\n",
    "    print('Ingresa el orden de su Matriz 1:Filas y Columnas')\n",
    "    filas1,columnas1 = int(input()),int(input())\n",
    "    print('Ingresa el orden de su Matriz 2:Filas y Columnas')\n",
    "    filas2,columnas2 = int(input()),int(input())\n",
    "    return(filas1,columnas1,filas2,columnas2)\n",
    "#Producto de Matrices\n",
    "def matriz():\n",
    "    filas1,columnas1,filas2,columnas2 =ingmxn() \n",
    "    while(columnas1!=filas2):\n",
    "        print('El numero de columnas de su Matriz1 debe ser iguala al numero de filas de su Matriz2')\n",
    "        filas1,columnas1,filas2,columnas2 =ingmxn()\n",
    "        \n",
    "    if(columnas1==filas2):\n",
    "        matriz1 = np.zeros((filas1,columnas1))\n",
    "        matriz2 = np.zeros((filas2,columnas2))\n",
    "        print ('Ingrese su Matriz 1')\n",
    "        for i in range(filas1):\n",
    "            for j in range(columnas1):\n",
    "                matriz1[i][j] = float(input('Elemento (%d,%d): ' % (i, j)))\n",
    "        print ('Ingrese su Matriz 2')\n",
    "        for i in range(filas2):\n",
    "            for j in range(columnas2):\n",
    "                matriz2[i][j] = float(input('Elemento (%d,%d): ' % (i, j)))\n",
    "\n",
    "    print (np.dot(matriz1,matriz2))\n",
    "    \n",
    "    return()\n",
    "#Programa PRincipal\n",
    "s='si'\n",
    "while('si' in s):\n",
    "    \n",
    "    x =input('Eliga la operacion que desea realizar')\n",
    "    y=int(x)\n",
    "    if(y==1):\n",
    "        a,b=ing()\n",
    "        resultado=suma(a,b)\n",
    "        print(resultado)\n",
    "    elif(y==2):\n",
    "        a,b=ing()\n",
    "        resultado=resta(a,b)\n",
    "        print(resultado)\n",
    "    elif(y==3):\n",
    "        a,b=ing()\n",
    "        resultado=producto(a,b)\n",
    "        print(resultado)\n",
    "    elif(y==4):\n",
    "        a,b=ing()\n",
    "        resultado=division(a,b)\n",
    "        print(resultado)\n",
    "    elif(y==5):\n",
    "        a,b=ing()\n",
    "        c=input('Elija operacion')\n",
    "        y=float(0)\n",
    "        d=int(b)\n",
    "        if('a'in c):\n",
    "            for i in range(d):\n",
    "                y=suma(y,a)\n",
    "            print(y)\n",
    "        elif('b'in c):\n",
    "            for i in range(d):\n",
    "                 y=resta(y,a)\n",
    "            print(y)\n",
    "        elif('c'in c):\n",
    "            y=1\n",
    "            for i in range(d):\n",
    "                y=producto(y,a)\n",
    "            print(y)\n",
    "    elif(y==6):\n",
    "        matriz() \n",
    "        \n",
    "        \n",
    "    s=input('Si desea relaizar otra operacion escriba -si- en caso contrario -no-')\n",
    "   "
   ]
  },
  {
   "cell_type": "code",
   "execution_count": null,
   "metadata": {},
   "outputs": [],
   "source": []
  }
 ],
 "metadata": {
  "kernelspec": {
   "display_name": "Python 3",
   "language": "python",
   "name": "python3"
  },
  "language_info": {
   "codemirror_mode": {
    "name": "ipython",
    "version": 3
   },
   "file_extension": ".py",
   "mimetype": "text/x-python",
   "name": "python",
   "nbconvert_exporter": "python",
   "pygments_lexer": "ipython3",
   "version": "3.7.6"
  }
 },
 "nbformat": 4,
 "nbformat_minor": 4
}
