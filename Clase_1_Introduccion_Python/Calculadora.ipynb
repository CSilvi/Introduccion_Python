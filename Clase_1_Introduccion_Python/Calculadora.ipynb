{
 "cells": [
  {
   "cell_type": "markdown",
   "metadata": {},
   "source": [
    "Menu de Calculadora"
   ]
  },
  {
   "cell_type": "code",
   "execution_count": null,
   "metadata": {},
   "outputs": [],
   "source": [
    "print('Elija una opcion')\n",
    "print('1-Suma ')\n",
    "print('2-Resta')\n",
    "print('3-Multiplicacion')\n",
    "print('4-Division')\n",
    "print('5-Iterator')\n",
    "print('6-Producto de MAtrices')\n"
   ]
  },
  {
   "cell_type": "markdown",
   "metadata": {},
   "source": [
    "Operaciones"
   ]
  },
  {
   "cell_type": "code",
   "execution_count": null,
   "metadata": {},
   "outputs": [],
   "source": [
    "a='python'\n",
    "'python'in a\n"
   ]
  },
  {
   "cell_type": "code",
   "execution_count": null,
   "metadata": {},
   "outputs": [],
   "source": [
    "for i in range(7):\n",
    "    print('h')\n",
    "    \n",
    "    \n",
    "   "
   ]
  },
  {
   "cell_type": "code",
   "execution_count": null,
   "metadata": {},
   "outputs": [],
   "source": [
    "def producto(w,k):\n",
    "    t = w * k\n",
    "    return t\n",
    "\n",
    "\n",
    "\n"
   ]
  },
  {
   "cell_type": "code",
   "execution_count": null,
   "metadata": {},
   "outputs": [],
   "source": [
    "import numpy as np\n",
    "\n",
    "# Definicion de Funciones\n",
    "def suma(op1,op2):\n",
    "    return (op1+op2)\n",
    "def resta(op3,op4):\n",
    "    return(op3-op4)\n",
    "def producto(op5,op6):\n",
    "    return(op5*op6)\n",
    "def division(op7,op8):\n",
    "    return(op7/op8)\n",
    "def ing():\n",
    "    a =float(input('Ingrese primer numero'))\n",
    "    b =float(input('Ingrese segundo numero'))\n",
    "    return(a,b)\n",
    "def matriz():\n",
    "    print('Ingresa el orden de su Matriz 1')\n",
    "    filas1,columnas1 = int(input()),int(input())\n",
    "    print('Ingresa el orden de su Matriz 2')\n",
    "    filas2,columnas2 = int(input()),int(input())\n",
    "    if(columnas1==filas2):\n",
    "        matriz1 = np.zeros((filas1,columnas1))\n",
    "        matriz2 = np.zeros((filas2,columnas2))\n",
    "        print ('Ingrese su Matriz 1')\n",
    "        for i in range(filas1):\n",
    "            for j in range(columnas1):\n",
    "                matriz1[i][j] = float(input('Elemento (%d,%d): ' % (i, j)))\n",
    "        print ('Ingrese su Matriz 2')\n",
    "        for i in range(filas2):\n",
    "            for j in range(columnas2):\n",
    "                matriz2[i][j] = float(input('Elemento (%d,%d): ' % (i, j)))\n",
    "\n",
    "    print (np.dot(matriz1,matriz2))\n",
    "    \n",
    "    return()\n",
    "   \n",
    "\n",
    "\n",
    "\n",
    "\n",
    "# Ingreso de valores\n",
    "x =input('Eliga la operacion que desea realizar')\n",
    "y=int(x)\n",
    "\n",
    "if(y==1):\n",
    "    a,b=ing()\n",
    "    resultado=suma(a,b)\n",
    "    print(resultado)\n",
    "elif(y==2):\n",
    "    a,b=ing()\n",
    "    resultado=resta(a,b)\n",
    "    print(resultado)\n",
    "elif(y==3):\n",
    "    a,b=ing()\n",
    "    resultado=producto(a,b)\n",
    "    print(resultado)\n",
    "elif(y==4):\n",
    "    a,b=ing()\n",
    "    resultado=division(a,b)\n",
    "    print(resultado)\n",
    "elif(y==5):\n",
    "  a,b=ing()\n",
    "  c=input('Elija operacion')\n",
    "  y=float(0)\n",
    "  d=int(b)\n",
    "  if('a'in c):\n",
    "    for i in range(d):\n",
    "          y=suma(y,a)\n",
    "    print(y)\n",
    "  elif('b'in c):\n",
    "    for i in range(d):\n",
    "          y=resta(y,a)\n",
    "    print(y)\n",
    "  elif('c'in c):\n",
    "    y=1\n",
    "    for i in range(d):\n",
    "          y=producto(y,a)\n",
    "    print(y)\n",
    "elif(y==6):\n",
    "    matriz()\n",
    "    \n",
    "            \n",
    "  \n"
   ]
  },
  {
   "cell_type": "code",
   "execution_count": null,
   "metadata": {},
   "outputs": [],
   "source": [
    "c=input('Elija operacion')\n",
    "if('a'in c):\n",
    "    print('k')"
   ]
  },
  {
   "cell_type": "code",
   "execution_count": null,
   "metadata": {},
   "outputs": [],
   "source": [
    "def suma(op1,op2):\n",
    "    return (op1+op2)\n",
    "\n",
    "c=float(input('Elija operacion'))\n",
    "y=float(0)\n",
    "\n",
    "for i in range(4):\n",
    "  y=suma(y,c)\n",
    "\n",
    "print(y)\n",
    "   "
   ]
  },
  {
   "cell_type": "code",
   "execution_count": null,
   "metadata": {},
   "outputs": [],
   "source": [
    "import numpy as np\n",
    "print('Ingresa el orden de su Matriz 1')\n",
    "filas1,columnas1 = int(input()),int(input())\n",
    "print('Ingresa el orden de su Matriz 2')\n",
    "filas2,columnas2 = int(input()),int(input())\n",
    "\n",
    "if (columnas1==filas2):\n",
    "\n",
    "\tmatriz1 = np.zeros((filas1,columnas1))\n",
    "\n",
    "\n",
    "\tmatriz2 = np.zeros((filas2,columnas2))\n",
    "\t\n",
    "    \n",
    "\tprint ('Ingrese su Matriz 1')\n",
    "\tfor i in range(filas1):\n",
    "\t\tfor j in range(columnas1):\n",
    "\t\t\tmatriz1[i][j] = float(input('Elemento (%d,%d): ' % (i, j)))\n",
    "    \n",
    "\tprint ('Ingrese su Matriz 2')\n",
    "\tfor i in range(filas2):\n",
    "\t\tfor j in range(columnas2):\n",
    "\t\t\tmatriz2[i][j] = float(input('Elemento (%d,%d): ' % (i, j)))\n",
    "\n",
    "print (np.dot(matriz1,matriz2))     \n"
   ]
  },
  {
   "cell_type": "code",
   "execution_count": null,
   "metadata": {},
   "outputs": [],
   "source": [
    "import numpy as np\n",
    "\n",
    "# Definicion de Funciones\n",
    "def suma(op1,op2):\n",
    "    return (op1+op2)\n",
    "def resta(op3,op4):\n",
    "    return(op3-op4)\n",
    "def producto(op5,op6):\n",
    "    return(op5*op6)\n",
    "def division(op7,op8):\n",
    "    return(op7/op8)\n",
    "def ing():\n",
    "    a =float(input('Ingrese primer numero'))\n",
    "    b =float(input('Ingrese segundo numero'))\n",
    "    return(a,b)\n",
    "\n",
    "\n",
    "def matriz():\n",
    "    print('Ingresa el orden de su Matriz 1')\n",
    "    filas1,columnas1 = int(input()),int(input())\n",
    "    print('Ingresa el orden de su Matriz 2')\n",
    "    filas2,columnas2 = int(input()),int(input())\n",
    "    if(columnas1==filas2):\n",
    "        matriz1 = np.zeros((filas1,columnas1))\n",
    "        matriz2 = np.zeros((filas2,columnas2))\n",
    "        print ('Ingrese su Matriz 1')\n",
    "        for i in range(filas1):\n",
    "            for j in range(columnas1):\n",
    "                matriz1[i][j] = float(input('Elemento (%d,%d): ' % (i, j)))\n",
    "        print ('Ingrese su Matriz 2')\n",
    "        for i in range(filas2):\n",
    "            for j in range(columnas2):\n",
    "                matriz2[i][j] = float(input('Elemento (%d,%d): ' % (i, j)))\n",
    "\n",
    "    print (np.dot(matriz1,matriz2))\n",
    "    \n",
    "    return()\n",
    "   \n",
    "s='si'\n",
    "while('si' in s):\n",
    "    # Ingreso de valores\n",
    "    x =input('Eliga la operacion que desea realizar')\n",
    "    y=int(x)\n",
    "    if(y==1):\n",
    "        a,b=ing()\n",
    "        resultado=suma(a,b)\n",
    "        print(resultado)\n",
    "    elif(y==2):\n",
    "        a,b=ing()\n",
    "        resultado=resta(a,b)\n",
    "        print(resultado)\n",
    "    elif(y==3):\n",
    "        a,b=ing()\n",
    "        resultado=producto(a,b)\n",
    "        print(resultado)\n",
    "    elif(y==4):\n",
    "        a,b=ing()\n",
    "        resultado=division(a,b)\n",
    "        print(resultado)\n",
    "    elif(y==5):\n",
    "        a,b=ing()\n",
    "        c=input('Elija operacion')\n",
    "        y=float(0)\n",
    "        d=int(b)\n",
    "        if('a'in c):\n",
    "            for i in range(d):\n",
    "                y=suma(y,a)\n",
    "            print(y)\n",
    "        elif('b'in c):\n",
    "            for i in range(d):\n",
    "                 y=resta(y,a)\n",
    "            print(y)\n",
    "        elif('c'in c):\n",
    "            y=1\n",
    "            for i in range(d):\n",
    "                y=producto(y,a)\n",
    "            print(y)\n",
    "    elif(y==6):\n",
    "        matriz() \n",
    "        \n",
    "        \n",
    "    s=input('EScriba si')\n",
    "\n",
    "    "
   ]
  },
  {
   "cell_type": "code",
   "execution_count": 2,
   "metadata": {},
   "outputs": [
    {
     "name": "stdin",
     "output_type": "stream",
     "text": [
      "Eliga la operacion que desea realizar 6\n"
     ]
    },
    {
     "name": "stdout",
     "output_type": "stream",
     "text": [
      "Ingresa el orden de su Matriz 1\n"
     ]
    },
    {
     "name": "stdin",
     "output_type": "stream",
     "text": [
      " 2\n",
      " 2\n"
     ]
    },
    {
     "name": "stdout",
     "output_type": "stream",
     "text": [
      "Ingresa el orden de su Matriz 2\n"
     ]
    },
    {
     "name": "stdin",
     "output_type": "stream",
     "text": [
      " 2\n",
      " 2\n"
     ]
    },
    {
     "name": "stdout",
     "output_type": "stream",
     "text": [
      "Ingrese su Matriz 1\n"
     ]
    },
    {
     "name": "stdin",
     "output_type": "stream",
     "text": [
      "Elemento (0,0):  2\n",
      "Elemento (0,1):  2\n",
      "Elemento (1,0):  2\n",
      "Elemento (1,1):  2\n"
     ]
    },
    {
     "name": "stdout",
     "output_type": "stream",
     "text": [
      "Ingrese su Matriz 2\n"
     ]
    },
    {
     "name": "stdin",
     "output_type": "stream",
     "text": [
      "Elemento (0,0):  2\n",
      "Elemento (0,1):  2\n",
      "Elemento (1,0):  2\n",
      "Elemento (1,1):  2\n"
     ]
    },
    {
     "name": "stdout",
     "output_type": "stream",
     "text": [
      "[[8. 8.]\n",
      " [8. 8.]]\n"
     ]
    },
    {
     "name": "stdin",
     "output_type": "stream",
     "text": [
      "EScriba si no\n"
     ]
    }
   ],
   "source": [
    "import numpy as np\n",
    "\n",
    "# Definicion de Funciones\n",
    "def suma(op1,op2):\n",
    "    return (op1+op2)\n",
    "def resta(op3,op4):\n",
    "    return(op3-op4)\n",
    "def producto(op5,op6):\n",
    "    return(op5*op6)\n",
    "def division(op7,op8):\n",
    "    return(op7/op8)\n",
    "def ing():\n",
    "    a =float(input('Ingrese primer numero'))\n",
    "    b =float(input('Ingrese segundo numero'))\n",
    "    return(a,b)\n",
    "def ingmxn():\n",
    "    print('Ingresa el orden de su Matriz 1')\n",
    "    filas1,columnas1 = int(input()),int(input())\n",
    "    print('Ingresa el orden de su Matriz 2')\n",
    "    filas2,columnas2 = int(input()),int(input())\n",
    "    return(filas1,columnas1,filas2,columnas2)\n",
    "def matriz():\n",
    "    filas1,columnas1,filas2,columnas2 =ingmxn() \n",
    "    while(columnas1!=filas2):\n",
    "        filas1,columnas1,filas2,columnas2 =ingmxn()\n",
    "        \n",
    "    if(columnas1==filas2):\n",
    "        matriz1 = np.zeros((filas1,columnas1))\n",
    "        matriz2 = np.zeros((filas2,columnas2))\n",
    "        print ('Ingrese su Matriz 1')\n",
    "        for i in range(filas1):\n",
    "            for j in range(columnas1):\n",
    "                matriz1[i][j] = float(input('Elemento (%d,%d): ' % (i, j)))\n",
    "        print ('Ingrese su Matriz 2')\n",
    "        for i in range(filas2):\n",
    "            for j in range(columnas2):\n",
    "                matriz2[i][j] = float(input('Elemento (%d,%d): ' % (i, j)))\n",
    "\n",
    "    print (np.dot(matriz1,matriz2))\n",
    "    \n",
    "    return()\n",
    "   \n",
    "s='si'\n",
    "while('si' in s):\n",
    "    # Ingreso de valores\n",
    "    x =input('Eliga la operacion que desea realizar')\n",
    "    y=int(x)\n",
    "    if(y==1):\n",
    "        a,b=ing()\n",
    "        resultado=suma(a,b)\n",
    "        print(resultado)\n",
    "    elif(y==2):\n",
    "        a,b=ing()\n",
    "        resultado=resta(a,b)\n",
    "        print(resultado)\n",
    "    elif(y==3):\n",
    "        a,b=ing()\n",
    "        resultado=producto(a,b)\n",
    "        print(resultado)\n",
    "    elif(y==4):\n",
    "        a,b=ing()\n",
    "        resultado=division(a,b)\n",
    "        print(resultado)\n",
    "    elif(y==5):\n",
    "        a,b=ing()\n",
    "        c=input('Elija operacion')\n",
    "        y=float(0)\n",
    "        d=int(b)\n",
    "        if('a'in c):\n",
    "            for i in range(d):\n",
    "                y=suma(y,a)\n",
    "            print(y)\n",
    "        elif('b'in c):\n",
    "            for i in range(d):\n",
    "                 y=resta(y,a)\n",
    "            print(y)\n",
    "        elif('c'in c):\n",
    "            y=1\n",
    "            for i in range(d):\n",
    "                y=producto(y,a)\n",
    "            print(y)\n",
    "    elif(y==6):\n",
    "        matriz() \n",
    "        \n",
    "        \n",
    "    s=input('EScriba si')"
   ]
  },
  {
   "cell_type": "code",
   "execution_count": null,
   "metadata": {},
   "outputs": [],
   "source": []
  }
 ],
 "metadata": {
  "kernelspec": {
   "display_name": "Python 3",
   "language": "python",
   "name": "python3"
  },
  "language_info": {
   "codemirror_mode": {
    "name": "ipython",
    "version": 3
   },
   "file_extension": ".py",
   "mimetype": "text/x-python",
   "name": "python",
   "nbconvert_exporter": "python",
   "pygments_lexer": "ipython3",
   "version": "3.7.6"
  }
 },
 "nbformat": 4,
 "nbformat_minor": 4
}
