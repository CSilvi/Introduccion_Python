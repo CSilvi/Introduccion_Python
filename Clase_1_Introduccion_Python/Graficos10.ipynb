{
 "cells": [
  {
   "cell_type": "code",
   "execution_count": 1,
   "metadata": {},
   "outputs": [],
   "source": [
    "import numpy as np\n",
    "import matplotlib.pyplot as pl\n",
    "import random\n",
    "%matplotlib inline"
   ]
  },
  {
   "cell_type": "code",
   "execution_count": null,
   "metadata": {},
   "outputs": [],
   "source": [
    "def figPlot(x=[0], y=[0], row=0, col=0, joinVec=[0], numplot=0, show=False, typeGraf=[0], xlim=[0], ylim=[0], xlabel=[0],ylabel=[0]):\n",
    "    if(show):\n",
    "        pl.figure(num=1,figsize=[10,10])\n",
    "        for i in range(5):\n",
    "            if(typeGraf[i]=='stem'):\n",
    "                pl.subplot(row,col,joinVec[i])\n",
    "                pl.stem(x[i],y[i],markerfmt='C1o')\n",
    "               #pl.plot(x[i],y[i])\n",
    "                pl.ylabel(xlabel[i])\n",
    "                pl.xlabel(ylabel[i])\n",
    "                pl.xlim(xlim[i])\n",
    "                pl.ylim(ylim[i])\n",
    "                \n",
    "            else:\n",
    "                pl.subplot(row,col,joinVec[i])\n",
    "                pl.plot(x[i],y[i])\n",
    "                pl.ylabel(xlabel[i])\n",
    "                pl.xlabel(ylabel[i])\n",
    "                pl.xlim(xlim[i])\n",
    "                pl.ylim(ylim[i])\n",
    "                \n",
    "        \n",
    "        pl.show()\n",
    "    "
   ]
  },
  {
   "cell_type": "code",
   "execution_count": null,
   "metadata": {},
   "outputs": [],
   "source": [
    "###GENERA LOS VALORES DE X y Y\n",
    "x= np.random.randint(0,5,size=[5,4])\n",
    "print(x)\n",
    "y= np.random.randint(0,5,size=[5,4])\n",
    "print(y)"
   ]
  },
  {
   "cell_type": "code",
   "execution_count": null,
   "metadata": {},
   "outputs": [],
   "source": []
  }
 ],
 "metadata": {
  "kernelspec": {
   "display_name": "Python 3",
   "language": "python",
   "name": "python3"
  },
  "language_info": {
   "codemirror_mode": {
    "name": "ipython",
    "version": 3
   },
   "file_extension": ".py",
   "mimetype": "text/x-python",
   "name": "python",
   "nbconvert_exporter": "python",
   "pygments_lexer": "ipython3",
   "version": "3.7.6"
  }
 },
 "nbformat": 4,
 "nbformat_minor": 4
}
