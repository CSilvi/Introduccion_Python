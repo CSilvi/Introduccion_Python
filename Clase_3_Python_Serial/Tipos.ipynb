{
 "cells": [
  {
   "cell_type": "code",
   "execution_count": 2,
   "metadata": {},
   "outputs": [
    {
     "name": "stdout",
     "output_type": "stream",
     "text": [
      "<class 'bytes'>\n",
      "b'\\x00\\x00\\x00\\x00'\n"
     ]
    }
   ],
   "source": [
    "# Create empty bytes\n",
    "empty_bytes = bytes(4)\n",
    "print(type(empty_bytes))\n",
    "print(empty_bytes)"
   ]
  },
  {
   "cell_type": "code",
   "execution_count": 1,
   "metadata": {},
   "outputs": [
    {
     "name": "stdout",
     "output_type": "stream",
     "text": [
      "bytearray(b'\\xff\\x0f\\xff')\n",
      "b'\\xff\\x0f\\xff'\n"
     ]
    }
   ],
   "source": [
    "# Cast bytes to bytearray\n",
    "mutable_bytes = bytearray(b'\\x00\\x0F')\n",
    "\n",
    "# Bytearray allows modification\n",
    "mutable_bytes[0] = 255\n",
    "mutable_bytes.append(255)\n",
    "print(mutable_bytes)\n",
    "\n",
    "# Cast bytearray back to bytes\n",
    "immutable_bytes = bytes(mutable_bytes)\n",
    "print(immutable_bytes)"
   ]
  },
  {
   "cell_type": "code",
   "execution_count": 19,
   "metadata": {},
   "outputs": [
    {
     "name": "stdout",
     "output_type": "stream",
     "text": [
      "b'I am text.'\n",
      "I am text.\n",
      "ABC\n"
     ]
    }
   ],
   "source": [
    "# Binary to Text\n",
    "binary_data = b'I am text.'\n",
    "print(binary_data)\n",
    "text = binary_data.decode('utf-8')\n",
    "print(text)\n",
    "\n",
    "binary_data = bytes([65, 66, 67])  # ASCII values for A, B, C\n",
    "text = binary_data.decode('utf-8')\n",
    "print(text)"
   ]
  },
  {
   "cell_type": "code",
   "execution_count": 22,
   "metadata": {},
   "outputs": [
    {
     "name": "stdout",
     "output_type": "stream",
     "text": [
      "<class 'bytes'>\n"
     ]
    }
   ],
   "source": [
    "# Text to Binary\n",
    "message = \"Hello\"  # str\n",
    "binary_message = message.encode('utf-8')\n",
    "print(type(binary_message))  # bytes\n"
   ]
  },
  {
   "cell_type": "code",
   "execution_count": 25,
   "metadata": {},
   "outputs": [
    {
     "name": "stdout",
     "output_type": "stream",
     "text": [
      "<class 'bytes'>\n",
      "255\n",
      "11111111\n",
      "ff\n",
      "377\n"
     ]
    }
   ],
   "source": [
    "a_byte = b'\\xff'  # 255\n",
    "print(type(a_byte))\n",
    "i = ord(a_byte)   # Get the integer value of the byte\n",
    "print(i)\n",
    "bin = \"{0:b}\".format(i) # binary: 11111111\n",
    "hex = \"{0:x}\".format(i) # hexadecimal: ff\n",
    "oct = \"{0:o}\".format(i) # octal: 377\n",
    "\n",
    "print(bin)\n",
    "print(hex)\n",
    "print(oct)"
   ]
  },
  {
   "cell_type": "code",
   "execution_count": 21,
   "metadata": {},
   "outputs": [
    {
     "name": "stdout",
     "output_type": "stream",
     "text": [
      "b'\\x10'\n",
      "b'\\x00\\x00\\x00\\x10'\n",
      "b'\\x10\\x00\\x00\\x00'\n",
      "b'\\xff\\xfe\\xfd\\xfc'\n",
      "240\n"
     ]
    }
   ],
   "source": [
    "i = 16\n",
    "\n",
    "# Create one byte from the integer 16\n",
    "single_byte = i.to_bytes(1, byteorder='big', signed=True) \n",
    "print(single_byte)\n",
    "\n",
    "# Create four bytes from the integer\n",
    "four_bytes = i.to_bytes(4, byteorder='big', signed=True)\n",
    "print(four_bytes)\n",
    "\n",
    "# Compare the difference to little endian\n",
    "print(i.to_bytes(4, byteorder='little', signed=True))\n",
    "\n",
    "# Create bytes from a list of integers with values from 0-255\n",
    "bytes_from_list = bytes([255, 254, 253, 252])\n",
    "print(bytes_from_list)\n",
    "\n",
    "# Create a byte from a base 2 integer\n",
    "one_byte = int('11110000', 2)\n",
    "print(one_byte)\n",
    "\n",
    "# Print out binary string (e.g. 0b010010)\n",
    "#print(bin(22))"
   ]
  },
  {
   "cell_type": "code",
   "execution_count": null,
   "metadata": {},
   "outputs": [],
   "source": [
    "# Binary to Text\n",
    "binary_data = b'I am text.'\n",
    "text = binary_data.decode('utf-8')\n",
    "print(text)\n",
    "\n",
    "binary_data = bytes([65, 66, 67])  # ASCII values for A, B, C\n",
    "text = binary_data.decode('utf-8')\n",
    "print(text)"
   ]
  },
  {
   "cell_type": "code",
   "execution_count": null,
   "metadata": {},
   "outputs": [],
   "source": [
    "# Text to Binary\n",
    "message = 'Hello'  # str\n",
    "binary_message = message.encode('utf-8')\n",
    "print(type(binary_message))  # bytes\n",
    "print(binary_message)\n",
    "\n",
    "# Python has many built in encodings for different languages,\n",
    "# and even the Caeser cipher is built in\n",
    "import codecs\n",
    "cipher_text = codecs.encode(message, 'rot_13')\n",
    "print(cipher_text)"
   ]
  },
  {
   "cell_type": "code",
   "execution_count": null,
   "metadata": {},
   "outputs": [],
   "source": [
    "# Encode binary data to a base 64 string\n",
    "binary_data = b'\\x00\\xFF\\x00\\xFF'\n",
    "\n",
    "# Use the codecs module to encode\n",
    "import codecs\n",
    "base64_data = codecs.encode(binary_data, 'base64')\n",
    "print(base64_data)\n",
    "\n",
    "# Or use the binascii module\n",
    "import binascii\n",
    "base64_data = binascii.b2a_base64(binary_data)\n",
    "print(base64_data)\n",
    "\n",
    "# The base64_string is still a bytes type\n",
    "# It may need to be decoded to an ASCII string\n",
    "print(base64_data.decode('utf-8'))\n",
    "\n",
    "# Decoding is done similarly\n",
    "print(codecs.decode(base64_data, 'base64'))\n",
    "print(binascii.a2b_base64(base64_data))"
   ]
  },
  {
   "cell_type": "code",
   "execution_count": null,
   "metadata": {},
   "outputs": [],
   "source": [
    "deadbeef = binascii.unhexlify('DEADBEEF')\n",
    "print(deadbeef)\n",
    "print(type(deadbeef))\n",
    "\n",
    "# Given raw bytes, get an ASCII string representing the hex values\n",
    "hex_data = binascii.hexlify(b'\\x00\\xff')  # Two bytes values 0 and 255\n",
    "print(hex_data)\n",
    "# The resulting value will be an ASCII string but it will be a bytes type\n",
    "# It may be necessary to decode it to a regular string\n",
    "text_string = hex_data.decode('utf-8')  # Result is string \"00ff\"\n",
    "print(text_string)"
   ]
  },
  {
   "cell_type": "code",
   "execution_count": null,
   "metadata": {},
   "outputs": [],
   "source": [
    "\n",
    "deadbeef = binascii.unhexlify('AA')\n",
    "print(deadbeef)\n",
    "print(type(deadbeef))\n",
    "con = binascii.hexlify(deadbeef)\n",
    "print(con)"
   ]
  },
  {
   "cell_type": "code",
   "execution_count": null,
   "metadata": {},
   "outputs": [],
   "source": [
    "import struct\n",
    "\n",
    "# Packing values to bytes\n",
    "# The first parameter is the format string. Here it specifies the data is structured\n",
    "# with a single four-byte integer followed by two characters.\n",
    "# The rest of the parameters are the values for each item in order\n",
    "binary_data = struct.pack(\"icc\", 8499000, b'A', b'Z')\n",
    "print(binary_data)\n",
    "\n",
    "# When unpacking, you receive a tuple of all data in the same order\n",
    "tuple_of_data = struct.unpack(\"icc\", binary_data)\n",
    "print(tuple_of_data)"
   ]
  },
  {
   "cell_type": "code",
   "execution_count": 6,
   "metadata": {},
   "outputs": [
    {
     "name": "stdout",
     "output_type": "stream",
     "text": [
      "bytearray(b'exit')\n",
      "<class 'bytearray'>\n",
      "101\n",
      "4\n",
      "1100101 1111000 1101001 1110100\n",
      "65 78 69 74\n"
     ]
    }
   ],
   "source": [
    "a = \"exit\"\n",
    "a_bytes = bytearray(a, \"ascii\")\n",
    "print(a_bytes)\n",
    "print(type(a_bytes))\n",
    "print(a_bytes[0])\n",
    "print(len(a_bytes))\n",
    "print(' '.join([\"{0:b}\".format(x) for x in a_bytes]))\n",
    "print(' '.join([\"{0:x}\".format(x) for x in a_bytes]))"
   ]
  },
  {
   "cell_type": "code",
   "execution_count": 28,
   "metadata": {},
   "outputs": [
    {
     "name": "stdout",
     "output_type": "stream",
     "text": [
      "bytearray(b'exit')\n",
      "9\n",
      "bytearray(b'\\xb0\\x00\\x00\\x00exit\\xb0')\n",
      "101\n",
      "b0 0 0 0 65 78 69 74 b0\n",
      "bytearray(b'exit')\n",
      "exit\n",
      "<class 'str'>\n",
      "akk\n"
     ]
    }
   ],
   "source": [
    "mutable_bytes = bytearray(b'\\xB0\\x00\\x00\\x00')\n",
    "a = \"exit\"\n",
    "a_bytes = bytearray(a, \"ascii\")\n",
    "print(a_bytes)\n",
    "for i in range(len(a)):\n",
    "    mutable_bytes.append(a_bytes[i])\n",
    "mutable_bytes.append(176)\n",
    "\n",
    "print(len(mutable_bytes))\n",
    "print(mutable_bytes)\n",
    "print(mutable_bytes[4])\n",
    "\n",
    "print(' '.join([\"{0:x}\".format(x) for x in mutable_bytes ]))\n",
    "\n",
    "text=bytearray()\n",
    "for i in range(4,8):\n",
    "    text.append(mutable_bytes[i])\n",
    "print(text)\n",
    "text1 =text.decode('utf-8')\n",
    "print(text1)\n",
    "print(type(text1))\n",
    "if(text1=='exit'):\n",
    "    print('akk')\n",
    "       "
   ]
  },
  {
   "cell_type": "code",
   "execution_count": null,
   "metadata": {},
   "outputs": [],
   "source": [
    "binary_data = bytes([65, 66, 67])  # ASCII values for A, B, C\n",
    "text = binary_data.decode('utf-8')\n",
    "print(text)"
   ]
  },
  {
   "cell_type": "code",
   "execution_count": 14,
   "metadata": {},
   "outputs": [
    {
     "ename": "SyntaxError",
     "evalue": "invalid token (<ipython-input-14-3f06f455de95>, line 3)",
     "output_type": "error",
     "traceback": [
      "\u001b[1;36m  File \u001b[1;32m\"<ipython-input-14-3f06f455de95>\"\u001b[1;36m, line \u001b[1;32m3\u001b[0m\n\u001b[1;33m    arr = bytes([00001])\u001b[0m\n\u001b[1;37m                     ^\u001b[0m\n\u001b[1;31mSyntaxError\u001b[0m\u001b[1;31m:\u001b[0m invalid token\n"
     ]
    }
   ],
   "source": [
    "size = 5\n",
    "\n",
    "arr = bytes([00001])\n",
    "print(arr)"
   ]
  },
  {
   "cell_type": "code",
   "execution_count": 8,
   "metadata": {},
   "outputs": [
    {
     "name": "stdout",
     "output_type": "stream",
     "text": [
      "b'\\x04\\x02\\x03\\x04\\x05'\n"
     ]
    }
   ],
   "source": [
    "rList = [4, 2, 3, 4, 5]\n",
    "\n",
    "arr = bytes(rList)\n",
    "print(arr)"
   ]
  },
  {
   "cell_type": "code",
   "execution_count": 17,
   "metadata": {},
   "outputs": [
    {
     "name": "stdout",
     "output_type": "stream",
     "text": [
      "A5\n"
     ]
    }
   ],
   "source": [
    "c='A'\n",
    "c+=str(5)\n",
    "print(c)"
   ]
  },
  {
   "cell_type": "code",
   "execution_count": null,
   "metadata": {},
   "outputs": [],
   "source": []
  },
  {
   "cell_type": "code",
   "execution_count": null,
   "metadata": {},
   "outputs": [],
   "source": [
    "textx=bytearray()\n",
    "textx=generar('exit')\n",
    "a=int(textx[0])\n",
    "c= 0b01011111\n",
    "d = a & c\n",
    "\n",
    "print(a)\n",
    "print(c)\n",
    "print(d)\n",
    "text=bytearray()\n",
    "for i in range(5,5+d):\n",
    "    text.append(textx[i])\n",
    "\n",
    "print(text)\n",
    "\n",
    "text1 =text.decode('utf-8')\n",
    "print(text1)\n",
    "#print(type(text1))\n",
    "if(text1=='exit'):\n",
    "    print('salio')\n",
    "if(text1=='Graficar'):\n",
    "    print('grafico')    \n",
    "if(text1=='Calculadora'):\n",
    "    print('Calculo')\n",
    "        \n"
   ]
  }
 ],
 "metadata": {
  "kernelspec": {
   "display_name": "Python 3",
   "language": "python",
   "name": "python3"
  },
  "language_info": {
   "codemirror_mode": {
    "name": "ipython",
    "version": 3
   },
   "file_extension": ".py",
   "mimetype": "text/x-python",
   "name": "python",
   "nbconvert_exporter": "python",
   "pygments_lexer": "ipython3",
   "version": "3.7.6"
  }
 },
 "nbformat": 4,
 "nbformat_minor": 4
}
