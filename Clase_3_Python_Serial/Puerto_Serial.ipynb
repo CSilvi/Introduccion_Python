{
 "cells": [
  {
   "cell_type": "code",
   "execution_count": null,
   "metadata": {},
   "outputs": [],
   "source": [
    "import time\n",
    "import serial\n",
    "import sys\n",
    "import Calculadora\n",
    "import Grafico"
   ]
  },
  {
   "cell_type": "code",
   "execution_count": null,
   "metadata": {},
   "outputs": [],
   "source": [
    "## Genera la trama a enviar\n",
    "def generar(a=''):\n",
    "    mutable_bytes = bytearray(b'\\xB0\\x00\\x00\\x00')\n",
    "    a_bytes = bytearray(a, \"ascii\")\n",
    "    for i in range(len(a)):\n",
    "        mutable_bytes.append(a_bytes[i])\n",
    "    mutable_bytes.append(176)\n",
    "    #print(len(mutable_bytes))\n",
    "    print('Trama Larga a enviar :',mutable_bytes)\n",
    "    return(mutable_bytes)"
   ]
  },
  {
   "cell_type": "code",
   "execution_count": null,
   "metadata": {},
   "outputs": [],
   "source": [
    "ser = serial.serial_for_url('loop://', timeout=1)\n",
    "ser.isOpen()\n",
    "ser.timeout=None\n",
    "ser.flushInput()\n",
    "ser.flushOutput()\n",
    "\n",
    "punto=input('Eliga que ejercicio quiere ejecutar a-b-c')\n",
    "##############################################\n",
    "if(punto=='a'):\n",
    "    dato= input('Ingrese 1-2-exit')\n",
    "    while(dato !='1' and dato !='2' and dato !='exit'):\n",
    "            print('Opcion no valida')\n",
    "            dato=input('Ingrese 1-2-exit')\n",
    "\n",
    "    out=''\n",
    "    ser.write(dato.encode())\n",
    "    while ser.inWaiting() > 0 :\n",
    "        out+=ser.read(1).decode()\n",
    "    print(out)\n",
    "\n",
    "    if(out==\"exit\"):\n",
    "        ser.close()\n",
    "        print('Puerto Serial cerrado')                  \n",
    "                       \n",
    "    if(out==\"1\"):\n",
    "        Calculadora.calculadora()\n",
    "        \n",
    "    if(out==\"2\"):\n",
    "        Grafico.graficar()\n",
    "########################################\n",
    "elif(punto=='b'):\n",
    "    dato= input('Ingrese Calculadora-Graficar-exit')\n",
    "    while(dato !='Calculadora' and dato !='Graficar' and dato !='exit'):\n",
    "        print('Comando invalido')\n",
    "        dato=input('Ingrese Calculadora-Graficar-exit')\n",
    "    \n",
    "    out=''\n",
    "    ser.write(dato.encode())\n",
    "    while ser.inWaiting() > 0 :\n",
    "        out+=ser.read(1).decode()\n",
    "    print(out)\n",
    "\n",
    "    if(out==\"exit\"):\n",
    "        ser.close()\n",
    "        print('Puerto Serial cerrado')                  \n",
    "                       \n",
    "    if(out==\"Calculadora\"):\n",
    "        Calculadora.calculadora()\n",
    "        \n",
    "    if(out==\"Graficar\"):\n",
    "        Grafico.graficar()\n",
    "#########################################################    \n",
    "elif(punto=='c'): \n",
    "    dato= input('Ingrese Calculadora-Graficar-exit')\n",
    "    while(dato !='Calculadora' and dato !='Graficar' and dato !='exit'):\n",
    "        print('Comando invalido')\n",
    "        dato=input('Ingrese Calculadora-Graficar-exit')\n",
    "        \n",
    "    mutable_bytes = generar(dato)\n",
    "    ser.write(mutable_bytes)\n",
    "    out=bytearray()\n",
    "    while ser.inWaiting() > 0 :\n",
    "        out+=ser.read(1)\n",
    "    print('Trama recibida: ',out)\n",
    "    \n",
    "    text=bytearray()\n",
    "    if(len(out)==9):\n",
    "        for i in range(4,8):\n",
    "            text.append(out[i])\n",
    "    elif(len(out)==13):\n",
    "        for i in range(4,12):\n",
    "            text.append(out[i])\n",
    "    elif(len(out)==16):\n",
    "        for i in range(4,15):\n",
    "            text.append(out[i])\n",
    "    \n",
    "    #print(text)\n",
    "    text1 =text.decode('utf-8')\n",
    "    print(text1)\n",
    "    #print(type(text1))\n",
    "    if(text1=='exit'):\n",
    "        ser.close()\n",
    "        print('Puerto Serial cerrado')\n",
    "    if(text1=='Graficar'):\n",
    "        Grafico.graficar()\n",
    "    if(text1=='Calculadora'):\n",
    "        Calculadora.calculadora()"
   ]
  },
  {
   "cell_type": "code",
   "execution_count": 3,
   "metadata": {},
   "outputs": [
    {
     "name": "stdout",
     "output_type": "stream",
     "text": [
      "<class 'int'>\n"
     ]
    }
   ],
   "source": [
    "c=(len('exit'))\n",
    "print(type(c))"
   ]
  },
  {
   "cell_type": "code",
   "execution_count": null,
   "metadata": {},
   "outputs": [],
   "source": []
  }
 ],
 "metadata": {
  "kernelspec": {
   "display_name": "Python 3",
   "language": "python",
   "name": "python3"
  },
  "language_info": {
   "codemirror_mode": {
    "name": "ipython",
    "version": 3
   },
   "file_extension": ".py",
   "mimetype": "text/x-python",
   "name": "python",
   "nbconvert_exporter": "python",
   "pygments_lexer": "ipython3",
   "version": "3.7.6"
  }
 },
 "nbformat": 4,
 "nbformat_minor": 4
}
