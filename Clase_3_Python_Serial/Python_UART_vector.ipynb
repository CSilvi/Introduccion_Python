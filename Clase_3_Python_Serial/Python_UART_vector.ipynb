{
 "cells": [
  {
   "cell_type": "code",
   "execution_count": 1,
   "metadata": {},
   "outputs": [
    {
     "name": "stdout",
     "output_type": "stream",
     "text": [
      "Ingrese un comando:\n",
      "\n"
     ]
    },
    {
     "name": "stdin",
     "output_type": "stream",
     "text": [
      "ToSent:  5\n"
     ]
    },
    {
     "name": "stdout",
     "output_type": "stream",
     "text": [
      ">> 5\n"
     ]
    },
    {
     "name": "stdin",
     "output_type": "stream",
     "text": [
      "ToSent:  exit\n"
     ]
    }
   ],
   "source": [
    "import time\n",
    "import serial\n",
    "\n",
    "#############################################\n",
    "# Nota:\n",
    "# Comentar esta linea si se utiliza el puerto serie\n",
    "# con la FPGA\n",
    "ser = serial.serial_for_url('loop://', timeout=1)\n",
    "\n",
    "#############################################\n",
    "# Nota:\n",
    "# Descomentar esta linea si se utiliza el puerto serie\n",
    "# con la FPGA\n",
    "#############################################\n",
    "# ser = serial.Serial(\n",
    "#     port     = '/dev/ttyUSB1',\n",
    "#     baudrate = 9600,\n",
    "#     parity   = serial.PARITY_NONE,\n",
    "#     stopbits = serial.STOPBITS_ONE,\n",
    "#     bytesize = serial.EIGHTBITS\n",
    "# )\n",
    "\n",
    "ser.isOpen()\n",
    "ser.timeout=None\n",
    "ser.flushInput()\n",
    "ser.flushOutput()\n",
    "\n",
    "print('Ingrese un comando:\\n')\n",
    "while 1 :\n",
    "    char_v = []\n",
    "    data = input(\"ToSent: \")\n",
    "    if data == 'exit':\n",
    "        if ser.isOpen():\n",
    "            ser.close()\n",
    "        break\n",
    "    else:\n",
    "        # Arma el vector a transmitir\n",
    "        for ptr in range(len(data)):\n",
    "            char_v.append(data[ptr])\n",
    "\n",
    "        for ptr in range(len(char_v)):\n",
    "            ser.write(char_v[ptr].encode())\n",
    "            #time.sleep(1)\n",
    "\n",
    "        out = ''\n",
    "        while ser.inWaiting() > 0:\n",
    "            out += ser.read(1).decode()\n",
    "\n",
    "        if out != '':\n",
    "            print(\">> \" + out)\n"
   ]
  },
  {
   "cell_type": "code",
   "execution_count": null,
   "metadata": {},
   "outputs": [],
   "source": []
  },
  {
   "cell_type": "code",
   "execution_count": null,
   "metadata": {},
   "outputs": [],
   "source": []
  }
 ],
 "metadata": {
  "kernelspec": {
   "display_name": "Python 3",
   "language": "python",
   "name": "python3"
  },
  "language_info": {
   "codemirror_mode": {
    "name": "ipython",
    "version": 3
   },
   "file_extension": ".py",
   "mimetype": "text/x-python",
   "name": "python",
   "nbconvert_exporter": "python",
   "pygments_lexer": "ipython3",
   "version": "3.7.6"
  }
 },
 "nbformat": 4,
 "nbformat_minor": 4
}
