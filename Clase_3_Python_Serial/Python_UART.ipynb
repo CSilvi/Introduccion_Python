{
 "cells": [
  {
   "cell_type": "code",
   "execution_count": 1,
   "metadata": {},
   "outputs": [
    {
     "name": "stdout",
     "output_type": "stream",
     "text": [
      "None\n",
      "Ingrese una serie de numeros (Ej. 1234) y presione Enter\n",
      "\n",
      "Escriba \"exit\" para salir y presione Enter\n",
      "\n",
      "\n"
     ]
    },
    {
     "name": "stdin",
     "output_type": "stream",
     "text": [
      "ToSent (type 'exit' to quit):  564\n"
     ]
    },
    {
     "name": "stdout",
     "output_type": "stream",
     "text": [
      ">> 564\n"
     ]
    },
    {
     "name": "stdin",
     "output_type": "stream",
     "text": [
      "ToSent (type 'exit' to quit):  54\n"
     ]
    },
    {
     "name": "stdout",
     "output_type": "stream",
     "text": [
      ">> 54\n"
     ]
    },
    {
     "name": "stdin",
     "output_type": "stream",
     "text": [
      "ToSent (type 'exit' to quit):  exit\n"
     ]
    }
   ],
   "source": [
    "import time\n",
    "import serial\n",
    "\n",
    "ser = serial.serial_for_url('loop://', timeout=1)\n",
    "\n",
    "# ser = serial.Serial(\n",
    "#     port     = '/dev/ttyUSB1',      #Configurar con el puerto\n",
    "#     baudrate = 9600,\n",
    "#     parity   = serial.PARITY_NONE,\n",
    "#     stopbits = serial.STOPBITS_ONE,\n",
    "#     bytesize = serial.EIGHTBITS\n",
    "# )\n",
    "\n",
    "ser.isOpen()\n",
    "ser.timeout=None\n",
    "ser.flushInput()\n",
    "ser.flushOutput()\n",
    "\n",
    "print(ser.timeout)\n",
    "\n",
    "print('Ingrese una serie de numeros (Ej. 1234) y presione Enter\\n')\n",
    "print('Escriba \"exit\" para salir y presione Enter\\n\\n')\n",
    "\n",
    "while 1 :\n",
    "    data = input(\"ToSent (type 'exit' to quit): \")\n",
    "    if (data == 'exit'):\n",
    "        if ser.isOpen():\n",
    "            ser.close()\n",
    "        break\n",
    "    else:\n",
    "        ser.write(data.encode())\n",
    "        #time.sleep(2)\n",
    "        out = ''\n",
    "        #print(\"Info: \",ser.inWaiting())\n",
    "        while ser.inWaiting() > 0:\n",
    "            read_data = ser.read(1)\n",
    "            #print(read_data)\n",
    "            out += read_data.decode()\n",
    "            #print(\"Info: \",ser.inWaiting())\n",
    "        if out != '':\n",
    "            print(\">> \" + out)"
   ]
  },
  {
   "cell_type": "code",
   "execution_count": null,
   "metadata": {},
   "outputs": [],
   "source": []
  }
 ],
 "metadata": {
  "kernelspec": {
   "display_name": "Python 3",
   "language": "python",
   "name": "python3"
  },
  "language_info": {
   "codemirror_mode": {
    "name": "ipython",
    "version": 3
   },
   "file_extension": ".py",
   "mimetype": "text/x-python",
   "name": "python",
   "nbconvert_exporter": "python",
   "pygments_lexer": "ipython3",
   "version": "3.7.6"
  }
 },
 "nbformat": 4,
 "nbformat_minor": 4
}
