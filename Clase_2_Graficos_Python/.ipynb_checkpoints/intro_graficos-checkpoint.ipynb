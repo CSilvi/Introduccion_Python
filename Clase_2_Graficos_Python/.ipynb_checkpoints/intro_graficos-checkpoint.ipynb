{
 "cells": [
  {
   "cell_type": "markdown",
   "metadata": {},
   "source": [
    "# Graficos"
   ]
  },
  {
   "cell_type": "code",
   "execution_count": null,
   "metadata": {},
   "outputs": [],
   "source": [
    "# Grafica en la misma pagina, sino abre una ventana con qt5\n",
    "%matplotlib inline\n",
    "#%matplotlib qt5"
   ]
  },
  {
   "cell_type": "markdown",
   "metadata": {},
   "source": [
    "## Importamos librerias"
   ]
  },
  {
   "cell_type": "code",
   "execution_count": null,
   "metadata": {},
   "outputs": [],
   "source": [
    "import numpy as np\n",
    "import matplotlib.pyplot as pl\n",
    "\n",
    "#define las dimensiones de las figuras por defecto (en pulgadas)\n",
    "pl.rcParams['figure.figsize']= [16.0,10.0]"
   ]
  },
  {
   "cell_type": "markdown",
   "metadata": {},
   "source": [
    "## Grafico Simple"
   ]
  },
  {
   "cell_type": "code",
   "execution_count": null,
   "metadata": {},
   "outputs": [],
   "source": [
    "## Graficos usando matplotlib.pyplot\n",
    "phase0 = 0.\n",
    "phase1 = np.pi/2.\n",
    "f0     = 2.\n",
    "f1     = 2.\n",
    "f2     = 4.\n",
    "\n",
    "t  = np.arange(0.,f0,0.01)\n",
    "y0 = np.sin(2.*np.pi*f0*t + phase0)\n",
    "y1 = np.sin(2.*np.pi*f1*t + phase1)\n",
    "y2 = np.cos(2.*np.pi*f2*t + phase0)\n",
    "\n",
    "pl.figure()\n",
    "pl.plot(t,y0,linewidth=1.0,label='Phase: %1.2f'%phase0)\n",
    "pl.plot(t,y1,'o-',linewidth=1.0,label='Phase: %1.2f'%phase1)\n",
    "pl.plot(t,y2,'x-r',linewidth=1.0,label='Phase: %1.2f'%phase0)\n",
    "pl.stem(t,y2,label='Phase: %1.2f'%phase0)\n",
    "#pl.axvline(x=1,color='k')\n",
    "#pl.axvline(x=1.5,color='k')\n",
    "#pl.axhline(y=0,color='k')\n",
    "pl.ylabel('Amplitud')\n",
    "pl.xlabel('Tiempo')\n",
    "pl.title('Seno-Coseno')\n",
    "pl.legend()\n",
    "pl.grid()\n",
    "pl.show()"
   ]
  },
  {
   "cell_type": "markdown",
   "metadata": {},
   "source": [
    "## Histogramas"
   ]
  },
  {
   "cell_type": "code",
   "execution_count": null,
   "metadata": {},
   "outputs": [],
   "source": [
    "Nsymb   = 10000\n",
    "symbols = np.random.uniform(-1,1,Nsymb)\n",
    "#symbols = 2*(np.random.uniform(-1,1,Nsymb)>0.0)-1\n",
    "\n",
    "pl.figure()\n",
    "pl.hist(symbols,20,label='Symbols')\n",
    "pl.legend()\n",
    "pl.xlim(-1.5,1.5)\n",
    "#pl.ylim(0,10000)\n",
    "pl.grid()\n",
    "pl.show()"
   ]
  },
  {
   "cell_type": "code",
   "execution_count": null,
   "metadata": {},
   "outputs": [],
   "source": [
    "mu, sigma = 0, 0.1\n",
    "samples   = np.random.normal(mu, sigma, 30000)\n",
    "\n",
    "pl.figure()\n",
    "count, bins, ignored = pl.hist(samples, 100, density=True)\n",
    "\n",
    "pl.plot(bins, 1/(sigma * np.sqrt(2. * np.pi)) * \n",
    "         np.exp( - (bins - mu)**2 / (2. * sigma**2) ),\n",
    "         linewidth=2, color='r')\n",
    "pl.grid()\n",
    "pl.show()"
   ]
  },
  {
   "cell_type": "markdown",
   "metadata": {},
   "source": [
    "## Scatter"
   ]
  },
  {
   "cell_type": "code",
   "execution_count": null,
   "metadata": {},
   "outputs": [],
   "source": [
    "mu, sigma = 0, 0.1\n",
    "x   = np.random.normal(mu, sigma, 1000)\n",
    "y   = np.random.normal(mu, sigma, 1000)\n",
    "pl.figure(figsize=[8,8])\n",
    "pl.scatter(x,y)\n",
    "pl.xlim(-0.5,0.5)\n",
    "pl.ylim(-0.5,0.5)\n",
    "pl.grid()\n",
    "pl.show()"
   ]
  },
  {
   "cell_type": "markdown",
   "metadata": {},
   "source": [
    "## Histograma 2D"
   ]
  },
  {
   "cell_type": "code",
   "execution_count": null,
   "metadata": {},
   "outputs": [],
   "source": [
    "from matplotlib.colors import LogNorm\n",
    "\n",
    "mu, sigma = 0, 0.1\n",
    "x   = np.random.normal(mu, sigma, 30000)\n",
    "y   = np.random.normal(mu, sigma, 30000)\n",
    "\n",
    "pl.figure(figsize=[10,8])\n",
    "pl.hist2d(x, y, bins=100, norm=LogNorm())\n",
    "pl.colorbar()\n",
    "pl.xlim(-0.5,0.5)\n",
    "pl.ylim(-0.5,0.5)\n",
    "pl.grid()\n",
    "pl.show()"
   ]
  },
  {
   "cell_type": "markdown",
   "metadata": {},
   "source": [
    "## Multiples Graficos"
   ]
  },
  {
   "cell_type": "code",
   "execution_count": null,
   "metadata": {},
   "outputs": [],
   "source": [
    "pl.figure(figsize=[14,14])\n",
    "pl.subplot(3,3,(1,3))\n",
    "pl.plot(t,y0,'.-',linewidth=2.0,label='Phase: %1.2f'%phase0)\n",
    "pl.ylabel('Amplitud')\n",
    "pl.xlabel('Tiempo')\n",
    "pl.legend()\n",
    "pl.grid()\n",
    "\n",
    "pl.subplot(3,3,(4,7))\n",
    "pl.plot(t,y1,'rx-',linewidth=1.0,label='Phase: %1.2f'%phase1)\n",
    "pl.ylabel('Amplitud')\n",
    "pl.xlabel('Tiempo')\n",
    "pl.legend()\n",
    "pl.grid()\n",
    "\n",
    "pl.subplot(3,3,5)\n",
    "pl.stem(t,y2,'y',markerfmt='C1o')\n",
    "pl.plot(t,y2,'g',linewidth=1.0,label='Phase: %1.2f'%phase0)\n",
    "pl.ylabel('Amplitud')\n",
    "pl.xlabel('Tiempo')\n",
    "pl.xlim(0,0.5)\n",
    "pl.legend()\n",
    "pl.grid()\n",
    "\n",
    "pl.subplot(3,3,6)\n",
    "pl.plot(t,y1,'.',linewidth=1.0,label='Phase: %1.2f'%phase1)\n",
    "pl.ylabel('Amplitud')\n",
    "pl.xlabel('Tiempo')\n",
    "pl.legend()\n",
    "pl.grid()\n",
    "\n",
    "pl.subplot(3,3,(8,9))\n",
    "pl.plot(t,y1,'m+-',linewidth=1.0,label='Phase: %1.2f'%phase1)\n",
    "pl.ylabel('Amplitud')\n",
    "pl.xlabel('Tiempo')\n",
    "pl.legend()\n",
    "pl.grid()\n",
    "pl.title('Sin')\n",
    "\n",
    "## Guardando figuras en archivos\n",
    "# pl.savefig('grafica.eps')\n",
    "# pl.savefig('grafica.pdf')\n",
    "# pl.savefig('grafica.png')\n",
    "\n",
    "pl.show()"
   ]
  },
  {
   "cell_type": "markdown",
   "metadata": {},
   "source": [
    "## Graficando datos desde un archivo"
   ]
  },
  {
   "cell_type": "code",
   "execution_count": null,
   "metadata": {},
   "outputs": [],
   "source": [
    "datos = np.fromfile('sine.log',sep=',')\n",
    "pl.figure(figsize=[10,8])\n",
    "pl.plot(datos)\n",
    "pl.grid()\n",
    "pl.show()"
   ]
  },
  {
   "cell_type": "markdown",
   "metadata": {},
   "source": [
    "## Control de graficos (solo en interprete no interactivo)"
   ]
  },
  {
   "cell_type": "code",
   "execution_count": null,
   "metadata": {},
   "outputs": [],
   "source": [
    "pl.show(block=False)\n",
    "input('Press Enter to Continue')\n",
    "pl.close()"
   ]
  },
  {
   "cell_type": "code",
   "execution_count": null,
   "metadata": {},
   "outputs": [],
   "source": [
    "def plotfigs(data,figNew=True,show=False):\n",
    "    if figNew==True:\n",
    "        pl.figure()\n",
    "\n",
    "    pl.plot(np.arange(0,len(data)),data,label='color')\n",
    "    pl.grid(True)\n",
    "\n",
    "    if show==True:\n",
    "        pl.show()\n",
    "\n",
    "plotfigs(y0)\n",
    "plotfigs(y1,figNew=False)\n",
    "plotfigs(y2,show=True)"
   ]
  }
 ],
 "metadata": {
  "kernelspec": {
   "display_name": "Python 3",
   "language": "python",
   "name": "python3"
  },
  "language_info": {
   "codemirror_mode": {
    "name": "ipython",
    "version": 3
   },
   "file_extension": ".py",
   "mimetype": "text/x-python",
   "name": "python",
   "nbconvert_exporter": "python",
   "pygments_lexer": "ipython3",
   "version": "3.8.2"
  }
 },
 "nbformat": 4,
 "nbformat_minor": 4
}
